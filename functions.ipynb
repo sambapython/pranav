{
 "cells": [
  {
   "cell_type": "code",
   "execution_count": 1,
   "id": "5b362338",
   "metadata": {},
   "outputs": [
    {
     "name": "stdout",
     "output_type": "stream",
     "text": [
      "started\n",
      "ended\n"
     ]
    }
   ],
   "source": [
    "print(\"started\")\n",
    "def fun():\n",
    "    print(\"hello\")\n",
    "    print(\"hi\")\n",
    "print(\"ended\")"
   ]
  },
  {
   "cell_type": "code",
   "execution_count": 2,
   "id": "0575f0c9",
   "metadata": {},
   "outputs": [
    {
     "name": "stdout",
     "output_type": "stream",
     "text": [
      "started\n",
      "ended\n",
      "hello\n",
      "hi\n"
     ]
    }
   ],
   "source": [
    "print(\"started\")\n",
    "def fun():\n",
    "    print(\"hello\")\n",
    "    print(\"hi\")\n",
    "print(\"ended\")\n",
    "fun()"
   ]
  },
  {
   "cell_type": "code",
   "execution_count": 3,
   "id": "bfe7f775",
   "metadata": {},
   "outputs": [
    {
     "name": "stdout",
     "output_type": "stream",
     "text": [
      "started\n",
      "ended\n",
      "hello\n",
      "hi\n",
      "hello\n",
      "hi\n"
     ]
    }
   ],
   "source": [
    "print(\"started\")\n",
    "def fun():\n",
    "    print(\"hello\")\n",
    "    print(\"hi\")\n",
    "print(\"ended\")\n",
    "fun()\n",
    "fun()"
   ]
  },
  {
   "cell_type": "code",
   "execution_count": 4,
   "id": "e95501eb",
   "metadata": {},
   "outputs": [
    {
     "name": "stdout",
     "output_type": "stream",
     "text": [
      "3\n",
      "numnum\n"
     ]
    },
    {
     "ename": "NameError",
     "evalue": "name 'add_num' is not defined",
     "output_type": "error",
     "traceback": [
      "\u001b[1;31m---------------------------------------------------------------------------\u001b[0m",
      "\u001b[1;31mNameError\u001b[0m                                 Traceback (most recent call last)",
      "\u001b[1;32m~\\AppData\\Local\\Temp\\ipykernel_17644\\119035155.py\u001b[0m in \u001b[0;36m<module>\u001b[1;34m\u001b[0m\n\u001b[0;32m      7\u001b[0m \u001b[0madd_nums\u001b[0m\u001b[1;33m(\u001b[0m\u001b[1;36m1\u001b[0m\u001b[1;33m,\u001b[0m\u001b[1;36m2\u001b[0m\u001b[1;33m)\u001b[0m\u001b[1;33m\u001b[0m\u001b[1;33m\u001b[0m\u001b[0m\n\u001b[0;32m      8\u001b[0m \u001b[0madd_nums\u001b[0m\u001b[1;33m(\u001b[0m\u001b[1;34m\"num\"\u001b[0m\u001b[1;33m,\u001b[0m \u001b[1;34m\"num\"\u001b[0m\u001b[1;33m)\u001b[0m\u001b[1;33m\u001b[0m\u001b[1;33m\u001b[0m\u001b[0m\n\u001b[1;32m----> 9\u001b[1;33m \u001b[0madd_num\u001b[0m\u001b[1;33m(\u001b[0m\u001b[1;34m\"num\"\u001b[0m\u001b[1;33m,\u001b[0m\u001b[1;36m23\u001b[0m\u001b[1;33m)\u001b[0m\u001b[1;33m\u001b[0m\u001b[1;33m\u001b[0m\u001b[0m\n\u001b[0m",
      "\u001b[1;31mNameError\u001b[0m: name 'add_num' is not defined"
     ]
    }
   ],
   "source": [
    "# write a function to add two numbers.\n",
    "# pydantic\n",
    "def add_nums(num1, num2):\n",
    "    result = num1+num2\n",
    "    print(result)\n",
    "\n",
    "add_nums(1,2)\n",
    "add_nums(\"num\", \"num\")\n",
    "add_num(\"num\",23)\n"
   ]
  },
  {
   "cell_type": "code",
   "execution_count": null,
   "id": "08063711",
   "metadata": {},
   "outputs": [],
   "source": [
    "# write a function to add two numbers.\n",
    "# pydantic\n",
    "def add_nums(num1, num2):\n",
    "    result = num1+num2\n",
    "    print(result)\n",
    "\n",
    "add_nums(1,2)\n",
    "add_nums(\"num\", \"num\")\n",
    "add_num(\"num\",23)\n"
   ]
  },
  {
   "cell_type": "code",
   "execution_count": 5,
   "id": "f9284187",
   "metadata": {},
   "outputs": [
    {
     "data": {
      "text/plain": [
       "True"
      ]
     },
     "execution_count": 5,
     "metadata": {},
     "output_type": "execute_result"
    }
   ],
   "source": [
    "isinstance(2, int)"
   ]
  },
  {
   "cell_type": "code",
   "execution_count": 6,
   "id": "4136e74e",
   "metadata": {},
   "outputs": [
    {
     "data": {
      "text/plain": [
       "False"
      ]
     },
     "execution_count": 6,
     "metadata": {},
     "output_type": "execute_result"
    }
   ],
   "source": [
    "isinstance(2, float)"
   ]
  },
  {
   "cell_type": "code",
   "execution_count": 7,
   "id": "3cce4284",
   "metadata": {},
   "outputs": [
    {
     "data": {
      "text/plain": [
       "False"
      ]
     },
     "execution_count": 7,
     "metadata": {},
     "output_type": "execute_result"
    }
   ],
   "source": [
    "isinstance([2,3], int)"
   ]
  },
  {
   "cell_type": "code",
   "execution_count": 8,
   "id": "7574dcc4",
   "metadata": {},
   "outputs": [
    {
     "data": {
      "text/plain": [
       "True"
      ]
     },
     "execution_count": 8,
     "metadata": {},
     "output_type": "execute_result"
    }
   ],
   "source": [
    "isinstance(2,(int, float))"
   ]
  },
  {
   "cell_type": "code",
   "execution_count": 9,
   "id": "54cb2b51",
   "metadata": {},
   "outputs": [
    {
     "data": {
      "text/plain": [
       "True"
      ]
     },
     "execution_count": 9,
     "metadata": {},
     "output_type": "execute_result"
    }
   ],
   "source": [
    "isinstance(2.0,(int, float))"
   ]
  },
  {
   "cell_type": "code",
   "execution_count": 10,
   "id": "13fd80f2",
   "metadata": {},
   "outputs": [
    {
     "data": {
      "text/plain": [
       "False"
      ]
     },
     "execution_count": 10,
     "metadata": {},
     "output_type": "execute_result"
    }
   ],
   "source": [
    "isinstance([1,2,3.0],(int, float))"
   ]
  },
  {
   "cell_type": "code",
   "execution_count": null,
   "id": "cdb52038",
   "metadata": {},
   "outputs": [],
   "source": [
    "# write a function to add two numbers.\n",
    "def add_nums(num1, num2):\n",
    "    if isinstance\n",
    "    result = num1+num2\n",
    "    print(result)\n",
    "\n",
    "add_nums(1,2)\n",
    "add_nums(\"num\", \"num\")\n",
    "add_num(\"num\",23)\n"
   ]
  },
  {
   "cell_type": "code",
   "execution_count": 11,
   "id": "9a14febb",
   "metadata": {},
   "outputs": [
    {
     "name": "stdout",
     "output_type": "stream",
     "text": [
      "3\n",
      "Invalid input\n",
      "Invalid input\n"
     ]
    }
   ],
   "source": [
    "def add_nums(num1, num2):\n",
    "    if isinstance(num1, (int, float)) and isinstance(num2, (int, float)):\n",
    "        result = num1+num2\n",
    "        print(result)\n",
    "    else:\n",
    "        print(\"Invalid input\")\n",
    "\n",
    "add_nums(1,2)\n",
    "add_nums(\"num\", \"num\")\n",
    "add_nums(\"num\", 2)"
   ]
  },
  {
   "cell_type": "code",
   "execution_count": 12,
   "id": "bf41e423",
   "metadata": {},
   "outputs": [
    {
     "name": "stdout",
     "output_type": "stream",
     "text": [
      "30\n"
     ]
    }
   ],
   "source": [
    "def add_nums(num1, num2):\n",
    "    print(num1+num2)\n",
    "add_nums(10,20)"
   ]
  },
  {
   "cell_type": "code",
   "execution_count": 13,
   "id": "d567a27d",
   "metadata": {},
   "outputs": [
    {
     "ename": "TypeError",
     "evalue": "add_nums() takes 2 positional arguments but 3 were given",
     "output_type": "error",
     "traceback": [
      "\u001b[1;31m---------------------------------------------------------------------------\u001b[0m",
      "\u001b[1;31mTypeError\u001b[0m                                 Traceback (most recent call last)",
      "\u001b[1;32m~\\AppData\\Local\\Temp\\ipykernel_17644\\1700309520.py\u001b[0m in \u001b[0;36m<module>\u001b[1;34m\u001b[0m\n\u001b[0;32m      1\u001b[0m \u001b[1;32mdef\u001b[0m \u001b[0madd_nums\u001b[0m\u001b[1;33m(\u001b[0m\u001b[0mnum1\u001b[0m\u001b[1;33m,\u001b[0m \u001b[0mnum2\u001b[0m\u001b[1;33m)\u001b[0m\u001b[1;33m:\u001b[0m\u001b[1;33m\u001b[0m\u001b[1;33m\u001b[0m\u001b[0m\n\u001b[0;32m      2\u001b[0m     \u001b[0mprint\u001b[0m\u001b[1;33m(\u001b[0m\u001b[0mnum1\u001b[0m\u001b[1;33m+\u001b[0m\u001b[0mnum2\u001b[0m\u001b[1;33m)\u001b[0m\u001b[1;33m\u001b[0m\u001b[1;33m\u001b[0m\u001b[0m\n\u001b[1;32m----> 3\u001b[1;33m \u001b[0madd_nums\u001b[0m\u001b[1;33m(\u001b[0m\u001b[1;36m10\u001b[0m\u001b[1;33m,\u001b[0m\u001b[1;36m20\u001b[0m\u001b[1;33m,\u001b[0m\u001b[1;36m30\u001b[0m\u001b[1;33m)\u001b[0m\u001b[1;33m\u001b[0m\u001b[1;33m\u001b[0m\u001b[0m\n\u001b[0m",
      "\u001b[1;31mTypeError\u001b[0m: add_nums() takes 2 positional arguments but 3 were given"
     ]
    }
   ],
   "source": [
    "def add_nums(num1, num2):\n",
    "    print(num1+num2)\n",
    "add_nums(10,20,30)"
   ]
  },
  {
   "cell_type": "code",
   "execution_count": 14,
   "id": "3e5a8624",
   "metadata": {},
   "outputs": [
    {
     "ename": "TypeError",
     "evalue": "add_nums() missing 1 required positional argument: 'num2'",
     "output_type": "error",
     "traceback": [
      "\u001b[1;31m---------------------------------------------------------------------------\u001b[0m",
      "\u001b[1;31mTypeError\u001b[0m                                 Traceback (most recent call last)",
      "\u001b[1;32m~\\AppData\\Local\\Temp\\ipykernel_17644\\2482702202.py\u001b[0m in \u001b[0;36m<module>\u001b[1;34m\u001b[0m\n\u001b[0;32m      1\u001b[0m \u001b[1;32mdef\u001b[0m \u001b[0madd_nums\u001b[0m\u001b[1;33m(\u001b[0m\u001b[0mnum1\u001b[0m\u001b[1;33m,\u001b[0m \u001b[0mnum2\u001b[0m\u001b[1;33m)\u001b[0m\u001b[1;33m:\u001b[0m\u001b[1;33m\u001b[0m\u001b[1;33m\u001b[0m\u001b[0m\n\u001b[0;32m      2\u001b[0m     \u001b[0mprint\u001b[0m\u001b[1;33m(\u001b[0m\u001b[0mnum1\u001b[0m\u001b[1;33m+\u001b[0m\u001b[0mnum2\u001b[0m\u001b[1;33m)\u001b[0m\u001b[1;33m\u001b[0m\u001b[1;33m\u001b[0m\u001b[0m\n\u001b[1;32m----> 3\u001b[1;33m \u001b[0madd_nums\u001b[0m\u001b[1;33m(\u001b[0m\u001b[1;36m10\u001b[0m\u001b[1;33m)\u001b[0m\u001b[1;33m\u001b[0m\u001b[1;33m\u001b[0m\u001b[0m\n\u001b[0m",
      "\u001b[1;31mTypeError\u001b[0m: add_nums() missing 1 required positional argument: 'num2'"
     ]
    }
   ],
   "source": [
    "def add_nums(num1, num2):\n",
    "    print(num1+num2)\n",
    "add_nums(10)"
   ]
  },
  {
   "cell_type": "code",
   "execution_count": 16,
   "id": "f0b465f5",
   "metadata": {},
   "outputs": [
    {
     "name": "stdout",
     "output_type": "stream",
     "text": [
      "n1=10,n2=20,n3=0,n4=0,n5=0\n",
      "n1=10,n2=20,n3=30,n4=0,n5=0\n",
      "n1=10,n2=20,n3=30,n4=50,n5=60\n"
     ]
    }
   ],
   "source": [
    "def add_nums(n1,n2,n3=0,n4=0,n5=0):# default arguments\n",
    "    print(f\"n1={n1},n2={n2},n3={n3},n4={n4},n5={n5}\")\n",
    "add_nums(10,20)# positional arguments\n",
    "add_nums(10,20,30)\n",
    "add_nums(10,20,30,50,60)"
   ]
  },
  {
   "cell_type": "code",
   "execution_count": 17,
   "id": "945b2869",
   "metadata": {},
   "outputs": [
    {
     "name": "stdout",
     "output_type": "stream",
     "text": [
      "() <class 'tuple'>\n",
      "(10,) <class 'tuple'>\n",
      "(10, 20) <class 'tuple'>\n",
      "(10, 20, 30) <class 'tuple'>\n",
      "(10, 20, 30, 50, 60) <class 'tuple'>\n"
     ]
    }
   ],
   "source": [
    "def add_nums(*nums):# starargs\n",
    "    print(nums, type(nums))\n",
    "add_nums()\n",
    "add_nums(10)\n",
    "add_nums(10,20)# positional arguments\n",
    "add_nums(10,20,30)\n",
    "add_nums(10,20,30,50,60)"
   ]
  },
  {
   "cell_type": "code",
   "execution_count": 18,
   "id": "819ec125",
   "metadata": {},
   "outputs": [
    {
     "name": "stdout",
     "output_type": "stream",
     "text": [
      "() <class 'tuple'>\n",
      "0\n",
      "(10,) <class 'tuple'>\n",
      "10\n",
      "(10, 20) <class 'tuple'>\n",
      "30\n",
      "(10, 20, 30) <class 'tuple'>\n",
      "60\n",
      "(10, 20, 30, 50, 60) <class 'tuple'>\n",
      "170\n"
     ]
    }
   ],
   "source": [
    "def add_nums(*nums):# starargs\n",
    "    print(nums, type(nums))\n",
    "    print(sum(nums))\n",
    "add_nums()\n",
    "add_nums(10)\n",
    "add_nums(10,20)# positional arguments\n",
    "add_nums(10,20,30)\n",
    "add_nums(10,20,30,50,60)"
   ]
  },
  {
   "cell_type": "code",
   "execution_count": 19,
   "id": "8bb6407c",
   "metadata": {},
   "outputs": [
    {
     "ename": "SyntaxError",
     "evalue": "invalid syntax (2583907054.py, line 4)",
     "output_type": "error",
     "traceback": [
      "\u001b[1;36m  File \u001b[1;32m\"C:\\Users\\samba\\AppData\\Local\\Temp\\ipykernel_17644\\2583907054.py\"\u001b[1;36m, line \u001b[1;32m4\u001b[0m\n\u001b[1;33m    add_nums(10,20,,30)\u001b[0m\n\u001b[1;37m                   ^\u001b[0m\n\u001b[1;31mSyntaxError\u001b[0m\u001b[1;31m:\u001b[0m invalid syntax\n"
     ]
    }
   ],
   "source": [
    "def add_nums(n1,n2,n3=0,n4=0,n5=0):# default arguments\n",
    "    print(f\"n1={n1},n2={n2},n3={n3},n4={n4},n5={n5}\")\n",
    "add_nums(10,20)# positional arguments\n",
    "add_nums(10,20,,30)"
   ]
  },
  {
   "cell_type": "code",
   "execution_count": 20,
   "id": "64b8f5e7",
   "metadata": {},
   "outputs": [
    {
     "name": "stdout",
     "output_type": "stream",
     "text": [
      "n1=10,n2=20,n3=0,n4=0,n5=0\n",
      "n1=10,n2=20,n3=0,n4=30,n5=0\n"
     ]
    }
   ],
   "source": [
    "def add_nums(n1,n2,n3=0,n4=0,n5=0):# default arguments\n",
    "    print(f\"n1={n1},n2={n2},n3={n3},n4={n4},n5={n5}\")\n",
    "add_nums(10,20)# positional arguments\n",
    "add_nums(10,20,0,30)"
   ]
  },
  {
   "cell_type": "code",
   "execution_count": 21,
   "id": "68db5d34",
   "metadata": {},
   "outputs": [
    {
     "name": "stdout",
     "output_type": "stream",
     "text": [
      "n1=10,n2=20,n3=0,n4=0,n5=0\n",
      "n1=10,n2=20,n3=0,n4=30,n5=0\n"
     ]
    }
   ],
   "source": [
    "def add_nums(n1,n2,n3=0,n4=0,n5=0):# default arguments\n",
    "    print(f\"n1={n1},n2={n2},n3={n3},n4={n4},n5={n5}\")\n",
    "add_nums(10,20)# positional arguments\n",
    "add_nums(10,20,n4=30)# keyword argument"
   ]
  },
  {
   "cell_type": "code",
   "execution_count": 22,
   "id": "e05c373f",
   "metadata": {},
   "outputs": [
    {
     "name": "stdout",
     "output_type": "stream",
     "text": [
      "n1=10,n2=20,n3=0,n4=0,n5=0\n",
      "n1=20,n2=30,n3=0,n4=60,n5=0\n"
     ]
    }
   ],
   "source": [
    "def add_nums(n1,n2,n3=0,n4=0,n5=0):# default arguments\n",
    "    print(f\"n1={n1},n2={n2},n3={n3},n4={n4},n5={n5}\")\n",
    "add_nums(10,20)# positional arguments\n",
    "add_nums(n2=30,n1=20,n4=60)# keyword argument"
   ]
  },
  {
   "cell_type": "code",
   "execution_count": null,
   "id": "26503af0",
   "metadata": {},
   "outputs": [],
   "source": []
  }
 ],
 "metadata": {
  "kernelspec": {
   "display_name": "Python 3 (ipykernel)",
   "language": "python",
   "name": "python3"
  },
  "language_info": {
   "codemirror_mode": {
    "name": "ipython",
    "version": 3
   },
   "file_extension": ".py",
   "mimetype": "text/x-python",
   "name": "python",
   "nbconvert_exporter": "python",
   "pygments_lexer": "ipython3",
   "version": "3.9.13"
  }
 },
 "nbformat": 4,
 "nbformat_minor": 5
}
