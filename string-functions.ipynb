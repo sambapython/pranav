{
 "cells": [
  {
   "cell_type": "code",
   "execution_count": 1,
   "id": "06310e0d",
   "metadata": {},
   "outputs": [
    {
     "name": "stdout",
     "output_type": "stream",
     "text": [
      "['__add__', '__class__', '__contains__', '__delattr__', '__dir__', '__doc__', '__eq__', '__format__', '__ge__', '__getattribute__', '__getitem__', '__getnewargs__', '__gt__', '__hash__', '__init__', '__init_subclass__', '__iter__', '__le__', '__len__', '__lt__', '__mod__', '__mul__', '__ne__', '__new__', '__reduce__', '__reduce_ex__', '__repr__', '__rmod__', '__rmul__', '__setattr__', '__sizeof__', '__str__', '__subclasshook__', 'capitalize', 'casefold', 'center', 'count', 'encode', 'endswith', 'expandtabs', 'find', 'format', 'format_map', 'index', 'isalnum', 'isalpha', 'isascii', 'isdecimal', 'isdigit', 'isidentifier', 'islower', 'isnumeric', 'isprintable', 'isspace', 'istitle', 'isupper', 'join', 'ljust', 'lower', 'lstrip', 'maketrans', 'partition', 'removeprefix', 'removesuffix', 'replace', 'rfind', 'rindex', 'rjust', 'rpartition', 'rsplit', 'rstrip', 'split', 'splitlines', 'startswith', 'strip', 'swapcase', 'title', 'translate', 'upper', 'zfill']\n"
     ]
    }
   ],
   "source": [
    "s=\"hyderabd\"\n",
    "print(dir(s))"
   ]
  },
  {
   "cell_type": "code",
   "execution_count": 2,
   "id": "c537bd4b",
   "metadata": {},
   "outputs": [],
   "source": [
    "s=\"hyderabd\"\n",
    "s.capitalize?"
   ]
  },
  {
   "cell_type": "code",
   "execution_count": 3,
   "id": "c47240e7",
   "metadata": {},
   "outputs": [
    {
     "data": {
      "text/plain": [
       "'Hyderabd'"
      ]
     },
     "execution_count": 3,
     "metadata": {},
     "output_type": "execute_result"
    }
   ],
   "source": [
    "s.capitalize()"
   ]
  },
  {
   "cell_type": "code",
   "execution_count": 4,
   "id": "c4ee1ade",
   "metadata": {},
   "outputs": [
    {
     "data": {
      "text/plain": [
       "'Hyderabd'"
      ]
     },
     "execution_count": 4,
     "metadata": {},
     "output_type": "execute_result"
    }
   ],
   "source": [
    "s=\"hyDEraBd\"\n",
    "s.capitalize()"
   ]
  },
  {
   "cell_type": "code",
   "execution_count": 5,
   "id": "75100629",
   "metadata": {},
   "outputs": [
    {
     "data": {
      "text/plain": [
       "'Hydera1#bd'"
      ]
     },
     "execution_count": 5,
     "metadata": {},
     "output_type": "execute_result"
    }
   ],
   "source": [
    "s=\"hyDEra1#Bd\"\n",
    "s.capitalize()"
   ]
  },
  {
   "cell_type": "code",
   "execution_count": 6,
   "id": "86b84664",
   "metadata": {},
   "outputs": [
    {
     "data": {
      "text/plain": [
       "'1hydera1#bd'"
      ]
     },
     "execution_count": 6,
     "metadata": {},
     "output_type": "execute_result"
    }
   ],
   "source": [
    "s=\"1hyDEra1#Bd\"\n",
    "s.capitalize()"
   ]
  },
  {
   "cell_type": "code",
   "execution_count": 7,
   "id": "45d7f4bd",
   "metadata": {},
   "outputs": [
    {
     "data": {
      "text/plain": [
       "''"
      ]
     },
     "execution_count": 7,
     "metadata": {},
     "output_type": "execute_result"
    }
   ],
   "source": [
    "s=\"\"\n",
    "s.capitalize()"
   ]
  },
  {
   "cell_type": "code",
   "execution_count": 8,
   "id": "8da8bc93",
   "metadata": {},
   "outputs": [
    {
     "data": {
      "text/plain": [
       "\"hyderbAd hAs A cold weAther todAy, dont come out if it's necessAry.\""
      ]
     },
     "execution_count": 8,
     "metadata": {},
     "output_type": "execute_result"
    }
   ],
   "source": [
    "s=\"hyderbad has a cold weather today, dont come out if it's necessary.\"\n",
    "s.replace(\"a\",\"A\")"
   ]
  },
  {
   "cell_type": "code",
   "execution_count": 9,
   "id": "586b4ec2",
   "metadata": {},
   "outputs": [
    {
     "data": {
      "text/plain": [
       "\"hyderbad has a COLD weather today, dont come out if it's necessary.\""
      ]
     },
     "execution_count": 9,
     "metadata": {},
     "output_type": "execute_result"
    }
   ],
   "source": [
    "s=\"hyderbad has a cold weather today, dont come out if it's necessary.\"\n",
    "s.replace(\"cold\",\"COLD\")"
   ]
  },
  {
   "cell_type": "code",
   "execution_count": 10,
   "id": "612a1428",
   "metadata": {},
   "outputs": [
    {
     "data": {
      "text/plain": [
       "\"hyderbAd hAs A cold weAther todAy, dont come out if it's necessAry.\""
      ]
     },
     "execution_count": 10,
     "metadata": {},
     "output_type": "execute_result"
    }
   ],
   "source": [
    "s=\"hyderbad has a cold weather today, dont come out if it's necessary.\"\n",
    "s.replace(\"a\",\"A\")"
   ]
  },
  {
   "cell_type": "code",
   "execution_count": 11,
   "id": "89499dd6",
   "metadata": {},
   "outputs": [
    {
     "data": {
      "text/plain": [
       "\"hyderbAd hAs a cold weather today, dont come out if it's necessary.\""
      ]
     },
     "execution_count": 11,
     "metadata": {},
     "output_type": "execute_result"
    }
   ],
   "source": [
    "s=\"hyderbad has a cold weather today, dont come out if it's necessary.\"\n",
    "s.replace(\"a\",\"A\",2)"
   ]
  },
  {
   "cell_type": "code",
   "execution_count": 1,
   "id": "777641eb",
   "metadata": {},
   "outputs": [
    {
     "name": "stdout",
     "output_type": "stream",
     "text": [
      "hyderabad\n"
     ]
    }
   ],
   "source": [
    "s=\"hyderabad\"\n",
    "print(s)"
   ]
  },
  {
   "cell_type": "code",
   "execution_count": 2,
   "id": "a646b278",
   "metadata": {},
   "outputs": [
    {
     "name": "stdout",
     "output_type": "stream",
     "text": [
      "hyderabad\n",
      "                                                       hyderabad                                                        \n"
     ]
    }
   ],
   "source": [
    "s=\"hyderabad\"\n",
    "print(s)\n",
    "print(s.center(120))"
   ]
  },
  {
   "cell_type": "code",
   "execution_count": 3,
   "id": "ec60fd61",
   "metadata": {},
   "outputs": [
    {
     "name": "stdout",
     "output_type": "stream",
     "text": [
      "hyderabad\n",
      "                                                       hyderabad                                                        \n",
      "                                                                                                               hyderabad\n",
      "hyderabad                                                                                                               \n"
     ]
    }
   ],
   "source": [
    "s=\"hyderabad\"\n",
    "print(s)\n",
    "print(s.center(120))\n",
    "print(s.rjust(120))\n",
    "print(s.ljust(120))"
   ]
  },
  {
   "cell_type": "code",
   "execution_count": 4,
   "id": "bf02e847",
   "metadata": {},
   "outputs": [
    {
     "name": "stdout",
     "output_type": "stream",
     "text": [
      "hyderabad\n",
      "                                                          hyderabad                                                          \n",
      "                                                                                                                    hyderabad\n",
      "hyderabad                                                                                                                    \n"
     ]
    }
   ],
   "source": [
    "s=\"hyderabad\"\n",
    "print(s)\n",
    "print(s.center(125))\n",
    "print(s.rjust(125))\n",
    "print(s.ljust(125))"
   ]
  },
  {
   "cell_type": "code",
   "execution_count": 5,
   "id": "91a0b585",
   "metadata": {},
   "outputs": [
    {
     "name": "stdout",
     "output_type": "stream",
     "text": [
      "hyderabad\n",
      "hyderabad\n",
      "hyderabad\n",
      "hyderabad                                                                                                                    \n"
     ]
    }
   ],
   "source": [
    "s=\"hyderabad\"\n",
    "print(s)\n",
    "print(s.center(0))\n",
    "print(s.rjust(0))\n",
    "print(s.ljust(125))"
   ]
  },
  {
   "cell_type": "code",
   "execution_count": 6,
   "id": "b573afe8",
   "metadata": {},
   "outputs": [
    {
     "name": "stdout",
     "output_type": "stream",
     "text": [
      "hyderabad\n",
      "**********************************************************hyderabad**********************************************************\n",
      "********************************************************************************************************************hyderabad\n",
      "hyderabad********************************************************************************************************************\n"
     ]
    }
   ],
   "source": [
    "s=\"hyderabad\"\n",
    "print(s)\n",
    "print(s.center(125,\"*\"))\n",
    "print(s.rjust(125,\"*\"))\n",
    "print(s.ljust(125,\"*\"))"
   ]
  },
  {
   "cell_type": "code",
   "execution_count": 7,
   "id": "876376da",
   "metadata": {},
   "outputs": [
    {
     "name": "stdout",
     "output_type": "stream",
     "text": [
      "hyderabad\n",
      "HYDERABAD\n",
      "hyderabad\n"
     ]
    }
   ],
   "source": [
    "s=\"hyDerABad\"\n",
    "print(s.lower())\n",
    "print(s.upper())\n",
    "print(s.casefold())"
   ]
  },
  {
   "cell_type": "code",
   "execution_count": null,
   "id": "1af281a0",
   "metadata": {},
   "outputs": [],
   "source": [
    "s=\"hyDerABad\"\n",
    "print(s.lower())\n",
    "print(s.upper())\n",
    "print(s.casefold())"
   ]
  },
  {
   "cell_type": "code",
   "execution_count": 8,
   "id": "5dc02d2d",
   "metadata": {},
   "outputs": [
    {
     "data": {
      "text/plain": [
       "False"
      ]
     },
     "execution_count": 8,
     "metadata": {},
     "output_type": "execute_result"
    }
   ],
   "source": [
    "\"appLE\"==\"APPle\""
   ]
  },
  {
   "cell_type": "code",
   "execution_count": 9,
   "id": "f1b0e0e1",
   "metadata": {},
   "outputs": [
    {
     "data": {
      "text/plain": [
       "True"
      ]
     },
     "execution_count": 9,
     "metadata": {},
     "output_type": "execute_result"
    }
   ],
   "source": [
    "\"appLE\".lower()==\"APPle\".lower()"
   ]
  },
  {
   "cell_type": "code",
   "execution_count": 10,
   "id": "3f693e27",
   "metadata": {},
   "outputs": [
    {
     "data": {
      "text/plain": [
       "True"
      ]
     },
     "execution_count": 10,
     "metadata": {},
     "output_type": "execute_result"
    }
   ],
   "source": [
    "\"appLE\".upper()==\"APPle\".upper()"
   ]
  },
  {
   "cell_type": "code",
   "execution_count": 11,
   "id": "fa78eb68",
   "metadata": {},
   "outputs": [
    {
     "data": {
      "text/plain": [
       "True"
      ]
     },
     "execution_count": 11,
     "metadata": {},
     "output_type": "execute_result"
    }
   ],
   "source": [
    "\"appLE\".casefold()==\"APPle\".casefold()"
   ]
  },
  {
   "cell_type": "code",
   "execution_count": 12,
   "id": "46d8f2f1",
   "metadata": {},
   "outputs": [
    {
     "name": "stdout",
     "output_type": "stream",
     "text": [
      "['emp1', 'emp2', 'emp3', 'emp4', 'emp5']\n",
      "['emp1', 'emp2', 'emp3', 'emp4', 'emp5']\n",
      "('emp1', ',', 'emp2,emp3,emp4,emp5')\n"
     ]
    }
   ],
   "source": [
    "s=\"emp1,emp2,emp3,emp4,emp5\"\n",
    "print(s.split(','))\n",
    "print(s.rsplit(\",\"))\n",
    "print(s.partition(\",\"))"
   ]
  },
  {
   "cell_type": "code",
   "execution_count": 13,
   "id": "0e336749",
   "metadata": {},
   "outputs": [
    {
     "name": "stdout",
     "output_type": "stream",
     "text": [
      "['emp1', 'emp2', 'emp3', 'emp4', 'emp5']\n",
      "['emp1', 'emp2', 'emp3', 'emp4', 'emp5']\n",
      "('emp1', ':', 'emp2:emp3:emp4:emp5')\n"
     ]
    }
   ],
   "source": [
    "s=\"emp1:emp2:emp3:emp4:emp5\"\n",
    "print(s.split(':'))\n",
    "print(s.rsplit(\":\"))\n",
    "print(s.partition(\":\"))"
   ]
  },
  {
   "cell_type": "code",
   "execution_count": 14,
   "id": "e96dcfbb",
   "metadata": {},
   "outputs": [
    {
     "name": "stdout",
     "output_type": "stream",
     "text": [
      "['emp1', 'emp2', 'emp3', 'emp4', 'emp5']\n",
      "['emp1', 'emp2', 'emp3', 'emp4', 'emp5']\n",
      "('emp1', ':', 'emp2:emp3:emp4:emp5')\n",
      "('emp1:emp2:emp3:emp4', ':', 'emp5')\n"
     ]
    }
   ],
   "source": [
    "s=\"emp1:emp2:emp3:emp4:emp5\"\n",
    "print(s.split(':'))\n",
    "print(s.rsplit(\":\"))\n",
    "print(s.partition(\":\"))\n",
    "print(s.rpartition(\":\"))"
   ]
  },
  {
   "cell_type": "code",
   "execution_count": 15,
   "id": "a27cc98d",
   "metadata": {},
   "outputs": [
    {
     "name": "stdout",
     "output_type": "stream",
     "text": [
      "['emp1', 'emp2', 'emp3:emp4:emp5:emp6:emp7']\n",
      "['emp1:emp2:emp3:emp4:emp5', 'emp6', 'emp7']\n"
     ]
    }
   ],
   "source": [
    "s=\"emp1:emp2:emp3:emp4:emp5:emp6:emp7\"\n",
    "print(s.split(':',2))\n",
    "print(s.rsplit(\":\",2))"
   ]
  },
  {
   "cell_type": "code",
   "execution_count": 16,
   "id": "45b4f4ed",
   "metadata": {},
   "outputs": [
    {
     "data": {
      "text/plain": [
       "'emp1:emp2:emp3:emp4:emp5'"
      ]
     },
     "execution_count": 16,
     "metadata": {},
     "output_type": "execute_result"
    }
   ],
   "source": [
    "l=['emp1', 'emp2', 'emp3', 'emp4', 'emp5']\n",
    "\":\".join(l)"
   ]
  },
  {
   "cell_type": "code",
   "execution_count": 17,
   "id": "544a1569",
   "metadata": {},
   "outputs": [
    {
     "ename": "TypeError",
     "evalue": "sequence item 5: expected str instance, int found",
     "output_type": "error",
     "traceback": [
      "\u001b[1;31m---------------------------------------------------------------------------\u001b[0m",
      "\u001b[1;31mTypeError\u001b[0m                                 Traceback (most recent call last)",
      "\u001b[1;32m~\\AppData\\Local\\Temp\\ipykernel_15504\\2527971250.py\u001b[0m in \u001b[0;36m<module>\u001b[1;34m\u001b[0m\n\u001b[0;32m      1\u001b[0m \u001b[0ml\u001b[0m\u001b[1;33m=\u001b[0m\u001b[1;33m[\u001b[0m\u001b[1;34m'emp1'\u001b[0m\u001b[1;33m,\u001b[0m \u001b[1;34m'emp2'\u001b[0m\u001b[1;33m,\u001b[0m \u001b[1;34m'emp3'\u001b[0m\u001b[1;33m,\u001b[0m \u001b[1;34m'emp4'\u001b[0m\u001b[1;33m,\u001b[0m \u001b[1;34m'emp5'\u001b[0m\u001b[1;33m,\u001b[0m\u001b[1;36m1\u001b[0m\u001b[1;33m,\u001b[0m\u001b[1;36m1.2\u001b[0m\u001b[1;33m]\u001b[0m\u001b[1;33m\u001b[0m\u001b[1;33m\u001b[0m\u001b[0m\n\u001b[1;32m----> 2\u001b[1;33m \u001b[1;34m\":\"\u001b[0m\u001b[1;33m.\u001b[0m\u001b[0mjoin\u001b[0m\u001b[1;33m(\u001b[0m\u001b[0ml\u001b[0m\u001b[1;33m)\u001b[0m\u001b[1;33m\u001b[0m\u001b[1;33m\u001b[0m\u001b[0m\n\u001b[0m",
      "\u001b[1;31mTypeError\u001b[0m: sequence item 5: expected str instance, int found"
     ]
    }
   ],
   "source": [
    "l=['emp1', 'emp2', 'emp3', 'emp4', 'emp5',1,1.2]\n",
    "\":\".join(l)"
   ]
  },
  {
   "cell_type": "code",
   "execution_count": 18,
   "id": "171ff38f",
   "metadata": {},
   "outputs": [
    {
     "name": "stdout",
     "output_type": "stream",
     "text": [
      "emp1emp2emp3emp4emp5emp6emp7\n"
     ]
    }
   ],
   "source": [
    "s=\"emp1:emp2:emp3:emp4:emp5:emp6:emp7\"\n",
    "print(s.replace(\":\",''))"
   ]
  },
  {
   "cell_type": "code",
   "execution_count": 19,
   "id": "d83207b8",
   "metadata": {},
   "outputs": [
    {
     "name": "stdout",
     "output_type": "stream",
     "text": [
      "['emp1', 'emp2', 'emp3', 'emp4', 'emp5', 'emp6', 'emp7']\n"
     ]
    }
   ],
   "source": [
    "s=\"emp1:emp2:emp3:emp4:emp5:emp6:emp7\"\n",
    "print(s.split(\":\"))"
   ]
  },
  {
   "cell_type": "code",
   "execution_count": 20,
   "id": "e8160de2",
   "metadata": {},
   "outputs": [
    {
     "name": "stdout",
     "output_type": "stream",
     "text": [
      "emp1emp2emp3emp4emp5emp6emp7\n"
     ]
    }
   ],
   "source": [
    "s=\"emp1:emp2:emp3:emp4:emp5:emp6:emp7\"\n",
    "print(\"\".join(s.split(\":\")))\n"
   ]
  },
  {
   "cell_type": "code",
   "execution_count": 21,
   "id": "dd40a1dc",
   "metadata": {},
   "outputs": [
    {
     "name": "stdout",
     "output_type": "stream",
     "text": [
      "emp1emp2emp3:emp4:emp5:emp6:emp7\n"
     ]
    }
   ],
   "source": [
    "s=\"emp1:emp2:emp3:emp4:emp5:emp6:emp7\"\n",
    "print(\"\".join(s.split(\":\",2)))"
   ]
  },
  {
   "cell_type": "code",
   "execution_count": 22,
   "id": "f2716147",
   "metadata": {},
   "outputs": [
    {
     "name": "stdout",
     "output_type": "stream",
     "text": [
      "emp1:emp2:emp3:emp4:emp5emp6emp7\n"
     ]
    }
   ],
   "source": [
    "s=\"emp1:emp2:emp3:emp4:emp5:emp6:emp7\"\n",
    "print(\"\".join(s.rsplit(\":\",2)))"
   ]
  },
  {
   "cell_type": "code",
   "execution_count": 23,
   "id": "144e1a8b",
   "metadata": {},
   "outputs": [
    {
     "name": "stdout",
     "output_type": "stream",
     "text": [
      "emp1:emp2:emp3:emp4:emp5,emp6,emp7\n"
     ]
    }
   ],
   "source": [
    "s=\"emp1:emp2:emp3:emp4:emp5:emp6:emp7\"\n",
    "print(\",\".join(s.rsplit(\":\",2)))"
   ]
  },
  {
   "cell_type": "code",
   "execution_count": 24,
   "id": "ef681d6b",
   "metadata": {},
   "outputs": [
    {
     "name": "stdout",
     "output_type": "stream",
     "text": [
      "True\n",
      "False\n",
      "True\n",
      "True\n",
      "False\n"
     ]
    }
   ],
   "source": [
    "s=\"abcd\"\n",
    "print(s.islower())\n",
    "print(s.isupper())\n",
    "print(s.isalnum())\n",
    "print(s.isalpha())\n",
    "print(s.isspace())"
   ]
  },
  {
   "cell_type": "code",
   "execution_count": 25,
   "id": "0a5b1923",
   "metadata": {},
   "outputs": [
    {
     "name": "stdout",
     "output_type": "stream",
     "text": [
      "True\n",
      "False\n",
      "True\n",
      "False\n",
      "False\n"
     ]
    }
   ],
   "source": [
    "s=\"abcd1234\"\n",
    "print(s.islower())\n",
    "print(s.isupper())\n",
    "print(s.isalnum())\n",
    "print(s.isalpha())\n",
    "print(s.isspace())"
   ]
  },
  {
   "cell_type": "code",
   "execution_count": 26,
   "id": "d8f4481f",
   "metadata": {},
   "outputs": [
    {
     "name": "stdout",
     "output_type": "stream",
     "text": [
      "False\n",
      "False\n",
      "True\n",
      "False\n",
      "False\n"
     ]
    }
   ],
   "source": [
    "s=\"abcd1234QWE\"\n",
    "print(s.islower())\n",
    "print(s.isupper())\n",
    "print(s.isalnum())\n",
    "print(s.isalpha())\n",
    "print(s.isspace())"
   ]
  },
  {
   "cell_type": "code",
   "execution_count": 27,
   "id": "d5243d6d",
   "metadata": {},
   "outputs": [
    {
     "name": "stdout",
     "output_type": "stream",
     "text": [
      "False\n",
      "True\n",
      "False\n",
      "False\n",
      "False\n"
     ]
    }
   ],
   "source": [
    "s=\"@#$1234QWE\"\n",
    "print(s.islower())\n",
    "print(s.isupper())\n",
    "print(s.isalnum())\n",
    "print(s.isalpha())\n",
    "print(s.isspace())"
   ]
  },
  {
   "cell_type": "code",
   "execution_count": 28,
   "id": "79e0e1fc",
   "metadata": {},
   "outputs": [
    {
     "name": "stdout",
     "output_type": "stream",
     "text": [
      "['__add__', '__class__', '__contains__', '__delattr__', '__dir__', '__doc__', '__eq__', '__format__', '__ge__', '__getattribute__', '__getitem__', '__getnewargs__', '__gt__', '__hash__', '__init__', '__init_subclass__', '__iter__', '__le__', '__len__', '__lt__', '__mod__', '__mul__', '__ne__', '__new__', '__reduce__', '__reduce_ex__', '__repr__', '__rmod__', '__rmul__', '__setattr__', '__sizeof__', '__str__', '__subclasshook__', 'capitalize', 'casefold', 'center', 'count', 'encode', 'endswith', 'expandtabs', 'find', 'format', 'format_map', 'index', 'isalnum', 'isalpha', 'isascii', 'isdecimal', 'isdigit', 'isidentifier', 'islower', 'isnumeric', 'isprintable', 'isspace', 'istitle', 'isupper', 'join', 'ljust', 'lower', 'lstrip', 'maketrans', 'partition', 'removeprefix', 'removesuffix', 'replace', 'rfind', 'rindex', 'rjust', 'rpartition', 'rsplit', 'rstrip', 'split', 'splitlines', 'startswith', 'strip', 'swapcase', 'title', 'translate', 'upper', 'zfill']\n"
     ]
    }
   ],
   "source": [
    "# decide whether the string has special chars or not ?\n",
    "print(dir(s))"
   ]
  },
  {
   "cell_type": "code",
   "execution_count": 29,
   "id": "d09a1178",
   "metadata": {},
   "outputs": [
    {
     "data": {
      "text/plain": [
       "'APPLE;orange;appel;grape;APPLE;mango;APPLE'"
      ]
     },
     "execution_count": 29,
     "metadata": {},
     "output_type": "execute_result"
    }
   ],
   "source": [
    "s=\"apple;orange;appel;grape;apple;mango;apple\"\n",
    "s.replace(\"apple\",\"APPLE\")"
   ]
  },
  {
   "cell_type": "code",
   "execution_count": 30,
   "id": "f5c0ae83",
   "metadata": {},
   "outputs": [
    {
     "data": {
      "text/plain": [
       "'apple;orange;appel;grape;apple;mango;apple'"
      ]
     },
     "execution_count": 30,
     "metadata": {},
     "output_type": "execute_result"
    }
   ],
   "source": [
    "s=\"apple;orange;appel;grape;apple;mango;apple\"\n",
    "#a->@, e->$,n->#, g->^\n",
    "#s.replace(\"apple\",\"APPLE\")\n",
    "s.replace(\"aeng\",\"@$#^\")"
   ]
  },
  {
   "cell_type": "code",
   "execution_count": 31,
   "id": "0893d5d0",
   "metadata": {},
   "outputs": [
    {
     "name": "stdout",
     "output_type": "stream",
     "text": [
      "{97: 64, 101: 36}\n"
     ]
    }
   ],
   "source": [
    "print({ord(\"a\"):ord(\"@\"),ord(\"e\"):ord(\"$\")})"
   ]
  },
  {
   "cell_type": "code",
   "execution_count": 32,
   "id": "b8a2360a",
   "metadata": {},
   "outputs": [
    {
     "data": {
      "text/plain": [
       "'@ppl$;or@ng$;@pp$l;gr@p$;@ppl$;m@ngo;@ppl$'"
      ]
     },
     "execution_count": 32,
     "metadata": {},
     "output_type": "execute_result"
    }
   ],
   "source": [
    "s=\"apple;orange;appel;grape;apple;mango;apple\"\n",
    "#a->@, e->$,n->#, g->^\n",
    "#s.replace(\"apple\",\"APPLE\")\n",
    "s.replace(\"aeng\",\"@$#^\")\n",
    "s.translate({97: 64, 101: 36})"
   ]
  },
  {
   "cell_type": "code",
   "execution_count": 33,
   "id": "335f71c4",
   "metadata": {},
   "outputs": [
    {
     "data": {
      "text/plain": [
       "{97: 64, 101: 36, 110: 35, 103: 94}"
      ]
     },
     "execution_count": 33,
     "metadata": {},
     "output_type": "execute_result"
    }
   ],
   "source": [
    "\"\".maketrans(\"aeng\",\"@$#^\")"
   ]
  },
  {
   "cell_type": "code",
   "execution_count": 34,
   "id": "46b7579d",
   "metadata": {},
   "outputs": [
    {
     "data": {
      "text/plain": [
       "'@ppl$;or@#^$;@pp$l;^r@p$;@ppl$;m@#^o;@ppl$'"
      ]
     },
     "execution_count": 34,
     "metadata": {},
     "output_type": "execute_result"
    }
   ],
   "source": [
    "s.translate(\"\".maketrans(\"aeng\",\"@$#^\"))"
   ]
  },
  {
   "cell_type": "code",
   "execution_count": 35,
   "id": "27481958",
   "metadata": {},
   "outputs": [
    {
     "name": "stdout",
     "output_type": "stream",
     "text": [
      "['__add__', '__class__', '__class_getitem__', '__contains__', '__delattr__', '__delitem__', '__dir__', '__doc__', '__eq__', '__format__', '__ge__', '__getattribute__', '__getitem__', '__gt__', '__hash__', '__iadd__', '__imul__', '__init__', '__init_subclass__', '__iter__', '__le__', '__len__', '__lt__', '__mul__', '__ne__', '__new__', '__reduce__', '__reduce_ex__', '__repr__', '__reversed__', '__rmul__', '__setattr__', '__setitem__', '__sizeof__', '__str__', '__subclasshook__', 'append', 'clear', 'copy', 'count', 'extend', 'index', 'insert', 'pop', 'remove', 'reverse', 'sort']\n"
     ]
    }
   ],
   "source": [
    "l=[1,2,3]\n",
    "print(dir(l))"
   ]
  },
  {
   "cell_type": "code",
   "execution_count": null,
   "id": "0922a3f1",
   "metadata": {},
   "outputs": [],
   "source": []
  }
 ],
 "metadata": {
  "kernelspec": {
   "display_name": "Python 3 (ipykernel)",
   "language": "python",
   "name": "python3"
  },
  "language_info": {
   "codemirror_mode": {
    "name": "ipython",
    "version": 3
   },
   "file_extension": ".py",
   "mimetype": "text/x-python",
   "name": "python",
   "nbconvert_exporter": "python",
   "pygments_lexer": "ipython3",
   "version": "3.9.13"
  }
 },
 "nbformat": 4,
 "nbformat_minor": 5
}
