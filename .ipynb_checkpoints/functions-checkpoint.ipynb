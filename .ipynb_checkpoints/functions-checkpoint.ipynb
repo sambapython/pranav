{
 "cells": [
  {
   "cell_type": "code",
   "execution_count": 1,
   "id": "5b362338",
   "metadata": {},
   "outputs": [
    {
     "name": "stdout",
     "output_type": "stream",
     "text": [
      "started\n",
      "ended\n"
     ]
    }
   ],
   "source": [
    "print(\"started\")\n",
    "def fun():\n",
    "    print(\"hello\")\n",
    "    print(\"hi\")\n",
    "print(\"ended\")"
   ]
  },
  {
   "cell_type": "code",
   "execution_count": 2,
   "id": "0575f0c9",
   "metadata": {},
   "outputs": [
    {
     "name": "stdout",
     "output_type": "stream",
     "text": [
      "started\n",
      "ended\n",
      "hello\n",
      "hi\n"
     ]
    }
   ],
   "source": [
    "print(\"started\")\n",
    "def fun():\n",
    "    print(\"hello\")\n",
    "    print(\"hi\")\n",
    "print(\"ended\")\n",
    "fun()"
   ]
  },
  {
   "cell_type": "code",
   "execution_count": 3,
   "id": "bfe7f775",
   "metadata": {},
   "outputs": [
    {
     "name": "stdout",
     "output_type": "stream",
     "text": [
      "started\n",
      "ended\n",
      "hello\n",
      "hi\n",
      "hello\n",
      "hi\n"
     ]
    }
   ],
   "source": [
    "print(\"started\")\n",
    "def fun():\n",
    "    print(\"hello\")\n",
    "    print(\"hi\")\n",
    "print(\"ended\")\n",
    "fun()\n",
    "fun()"
   ]
  },
  {
   "cell_type": "code",
   "execution_count": 4,
   "id": "e95501eb",
   "metadata": {},
   "outputs": [
    {
     "name": "stdout",
     "output_type": "stream",
     "text": [
      "3\n",
      "numnum\n"
     ]
    },
    {
     "ename": "NameError",
     "evalue": "name 'add_num' is not defined",
     "output_type": "error",
     "traceback": [
      "\u001b[1;31m---------------------------------------------------------------------------\u001b[0m",
      "\u001b[1;31mNameError\u001b[0m                                 Traceback (most recent call last)",
      "\u001b[1;32m~\\AppData\\Local\\Temp\\ipykernel_17644\\119035155.py\u001b[0m in \u001b[0;36m<module>\u001b[1;34m\u001b[0m\n\u001b[0;32m      7\u001b[0m \u001b[0madd_nums\u001b[0m\u001b[1;33m(\u001b[0m\u001b[1;36m1\u001b[0m\u001b[1;33m,\u001b[0m\u001b[1;36m2\u001b[0m\u001b[1;33m)\u001b[0m\u001b[1;33m\u001b[0m\u001b[1;33m\u001b[0m\u001b[0m\n\u001b[0;32m      8\u001b[0m \u001b[0madd_nums\u001b[0m\u001b[1;33m(\u001b[0m\u001b[1;34m\"num\"\u001b[0m\u001b[1;33m,\u001b[0m \u001b[1;34m\"num\"\u001b[0m\u001b[1;33m)\u001b[0m\u001b[1;33m\u001b[0m\u001b[1;33m\u001b[0m\u001b[0m\n\u001b[1;32m----> 9\u001b[1;33m \u001b[0madd_num\u001b[0m\u001b[1;33m(\u001b[0m\u001b[1;34m\"num\"\u001b[0m\u001b[1;33m,\u001b[0m\u001b[1;36m23\u001b[0m\u001b[1;33m)\u001b[0m\u001b[1;33m\u001b[0m\u001b[1;33m\u001b[0m\u001b[0m\n\u001b[0m",
      "\u001b[1;31mNameError\u001b[0m: name 'add_num' is not defined"
     ]
    }
   ],
   "source": [
    "# write a function to add two numbers.\n",
    "# pydantic\n",
    "def add_nums(num1, num2):\n",
    "    result = num1+num2\n",
    "    print(result)\n",
    "\n",
    "add_nums(1,2)\n",
    "add_nums(\"num\", \"num\")\n",
    "add_num(\"num\",23)\n"
   ]
  },
  {
   "cell_type": "code",
   "execution_count": null,
   "id": "08063711",
   "metadata": {},
   "outputs": [],
   "source": [
    "# write a function to add two numbers.\n",
    "# pydantic\n",
    "def add_nums(num1, num2):\n",
    "    result = num1+num2\n",
    "    print(result)\n",
    "\n",
    "add_nums(1,2)\n",
    "add_nums(\"num\", \"num\")\n",
    "add_num(\"num\",23)\n"
   ]
  },
  {
   "cell_type": "code",
   "execution_count": 5,
   "id": "f9284187",
   "metadata": {},
   "outputs": [
    {
     "data": {
      "text/plain": [
       "True"
      ]
     },
     "execution_count": 5,
     "metadata": {},
     "output_type": "execute_result"
    }
   ],
   "source": [
    "isinstance(2, int)"
   ]
  },
  {
   "cell_type": "code",
   "execution_count": 6,
   "id": "4136e74e",
   "metadata": {},
   "outputs": [
    {
     "data": {
      "text/plain": [
       "False"
      ]
     },
     "execution_count": 6,
     "metadata": {},
     "output_type": "execute_result"
    }
   ],
   "source": [
    "isinstance(2, float)"
   ]
  },
  {
   "cell_type": "code",
   "execution_count": 7,
   "id": "3cce4284",
   "metadata": {},
   "outputs": [
    {
     "data": {
      "text/plain": [
       "False"
      ]
     },
     "execution_count": 7,
     "metadata": {},
     "output_type": "execute_result"
    }
   ],
   "source": [
    "isinstance([2,3], int)"
   ]
  },
  {
   "cell_type": "code",
   "execution_count": 8,
   "id": "7574dcc4",
   "metadata": {},
   "outputs": [
    {
     "data": {
      "text/plain": [
       "True"
      ]
     },
     "execution_count": 8,
     "metadata": {},
     "output_type": "execute_result"
    }
   ],
   "source": [
    "isinstance(2,(int, float))"
   ]
  },
  {
   "cell_type": "code",
   "execution_count": 9,
   "id": "54cb2b51",
   "metadata": {},
   "outputs": [
    {
     "data": {
      "text/plain": [
       "True"
      ]
     },
     "execution_count": 9,
     "metadata": {},
     "output_type": "execute_result"
    }
   ],
   "source": [
    "isinstance(2.0,(int, float))"
   ]
  },
  {
   "cell_type": "code",
   "execution_count": 10,
   "id": "13fd80f2",
   "metadata": {},
   "outputs": [
    {
     "data": {
      "text/plain": [
       "False"
      ]
     },
     "execution_count": 10,
     "metadata": {},
     "output_type": "execute_result"
    }
   ],
   "source": [
    "isinstance([1,2,3.0],(int, float))"
   ]
  },
  {
   "cell_type": "code",
   "execution_count": null,
   "id": "cdb52038",
   "metadata": {},
   "outputs": [],
   "source": [
    "# write a function to add two numbers.\n",
    "def add_nums(num1, num2):\n",
    "    if isinstance\n",
    "    result = num1+num2\n",
    "    print(result)\n",
    "\n",
    "add_nums(1,2)\n",
    "add_nums(\"num\", \"num\")\n",
    "add_num(\"num\",23)\n"
   ]
  },
  {
   "cell_type": "code",
   "execution_count": 11,
   "id": "9a14febb",
   "metadata": {},
   "outputs": [
    {
     "name": "stdout",
     "output_type": "stream",
     "text": [
      "3\n",
      "Invalid input\n",
      "Invalid input\n"
     ]
    }
   ],
   "source": [
    "def add_nums(num1, num2):\n",
    "    if isinstance(num1, (int, float)) and isinstance(num2, (int, float)):\n",
    "        result = num1+num2\n",
    "        print(result)\n",
    "    else:\n",
    "        print(\"Invalid input\")\n",
    "\n",
    "add_nums(1,2)\n",
    "add_nums(\"num\", \"num\")\n",
    "add_nums(\"num\", 2)"
   ]
  },
  {
   "cell_type": "code",
   "execution_count": 12,
   "id": "bf41e423",
   "metadata": {},
   "outputs": [
    {
     "name": "stdout",
     "output_type": "stream",
     "text": [
      "30\n"
     ]
    }
   ],
   "source": [
    "def add_nums(num1, num2):\n",
    "    print(num1+num2)\n",
    "add_nums(10,20)"
   ]
  },
  {
   "cell_type": "code",
   "execution_count": 13,
   "id": "d567a27d",
   "metadata": {},
   "outputs": [
    {
     "ename": "TypeError",
     "evalue": "add_nums() takes 2 positional arguments but 3 were given",
     "output_type": "error",
     "traceback": [
      "\u001b[1;31m---------------------------------------------------------------------------\u001b[0m",
      "\u001b[1;31mTypeError\u001b[0m                                 Traceback (most recent call last)",
      "\u001b[1;32m~\\AppData\\Local\\Temp\\ipykernel_17644\\1700309520.py\u001b[0m in \u001b[0;36m<module>\u001b[1;34m\u001b[0m\n\u001b[0;32m      1\u001b[0m \u001b[1;32mdef\u001b[0m \u001b[0madd_nums\u001b[0m\u001b[1;33m(\u001b[0m\u001b[0mnum1\u001b[0m\u001b[1;33m,\u001b[0m \u001b[0mnum2\u001b[0m\u001b[1;33m)\u001b[0m\u001b[1;33m:\u001b[0m\u001b[1;33m\u001b[0m\u001b[1;33m\u001b[0m\u001b[0m\n\u001b[0;32m      2\u001b[0m     \u001b[0mprint\u001b[0m\u001b[1;33m(\u001b[0m\u001b[0mnum1\u001b[0m\u001b[1;33m+\u001b[0m\u001b[0mnum2\u001b[0m\u001b[1;33m)\u001b[0m\u001b[1;33m\u001b[0m\u001b[1;33m\u001b[0m\u001b[0m\n\u001b[1;32m----> 3\u001b[1;33m \u001b[0madd_nums\u001b[0m\u001b[1;33m(\u001b[0m\u001b[1;36m10\u001b[0m\u001b[1;33m,\u001b[0m\u001b[1;36m20\u001b[0m\u001b[1;33m,\u001b[0m\u001b[1;36m30\u001b[0m\u001b[1;33m)\u001b[0m\u001b[1;33m\u001b[0m\u001b[1;33m\u001b[0m\u001b[0m\n\u001b[0m",
      "\u001b[1;31mTypeError\u001b[0m: add_nums() takes 2 positional arguments but 3 were given"
     ]
    }
   ],
   "source": [
    "def add_nums(num1, num2):\n",
    "    print(num1+num2)\n",
    "add_nums(10,20,30)"
   ]
  },
  {
   "cell_type": "code",
   "execution_count": 14,
   "id": "3e5a8624",
   "metadata": {},
   "outputs": [
    {
     "ename": "TypeError",
     "evalue": "add_nums() missing 1 required positional argument: 'num2'",
     "output_type": "error",
     "traceback": [
      "\u001b[1;31m---------------------------------------------------------------------------\u001b[0m",
      "\u001b[1;31mTypeError\u001b[0m                                 Traceback (most recent call last)",
      "\u001b[1;32m~\\AppData\\Local\\Temp\\ipykernel_17644\\2482702202.py\u001b[0m in \u001b[0;36m<module>\u001b[1;34m\u001b[0m\n\u001b[0;32m      1\u001b[0m \u001b[1;32mdef\u001b[0m \u001b[0madd_nums\u001b[0m\u001b[1;33m(\u001b[0m\u001b[0mnum1\u001b[0m\u001b[1;33m,\u001b[0m \u001b[0mnum2\u001b[0m\u001b[1;33m)\u001b[0m\u001b[1;33m:\u001b[0m\u001b[1;33m\u001b[0m\u001b[1;33m\u001b[0m\u001b[0m\n\u001b[0;32m      2\u001b[0m     \u001b[0mprint\u001b[0m\u001b[1;33m(\u001b[0m\u001b[0mnum1\u001b[0m\u001b[1;33m+\u001b[0m\u001b[0mnum2\u001b[0m\u001b[1;33m)\u001b[0m\u001b[1;33m\u001b[0m\u001b[1;33m\u001b[0m\u001b[0m\n\u001b[1;32m----> 3\u001b[1;33m \u001b[0madd_nums\u001b[0m\u001b[1;33m(\u001b[0m\u001b[1;36m10\u001b[0m\u001b[1;33m)\u001b[0m\u001b[1;33m\u001b[0m\u001b[1;33m\u001b[0m\u001b[0m\n\u001b[0m",
      "\u001b[1;31mTypeError\u001b[0m: add_nums() missing 1 required positional argument: 'num2'"
     ]
    }
   ],
   "source": [
    "def add_nums(num1, num2):\n",
    "    print(num1+num2)\n",
    "add_nums(10)"
   ]
  },
  {
   "cell_type": "code",
   "execution_count": 16,
   "id": "f0b465f5",
   "metadata": {},
   "outputs": [
    {
     "name": "stdout",
     "output_type": "stream",
     "text": [
      "n1=10,n2=20,n3=0,n4=0,n5=0\n",
      "n1=10,n2=20,n3=30,n4=0,n5=0\n",
      "n1=10,n2=20,n3=30,n4=50,n5=60\n"
     ]
    }
   ],
   "source": [
    "def add_nums(n1,n2,n3=0,n4=0,n5=0):# default arguments\n",
    "    print(f\"n1={n1},n2={n2},n3={n3},n4={n4},n5={n5}\")\n",
    "add_nums(10,20)# positional arguments\n",
    "add_nums(10,20,30)\n",
    "add_nums(10,20,30,50,60)"
   ]
  },
  {
   "cell_type": "code",
   "execution_count": 17,
   "id": "945b2869",
   "metadata": {},
   "outputs": [
    {
     "name": "stdout",
     "output_type": "stream",
     "text": [
      "() <class 'tuple'>\n",
      "(10,) <class 'tuple'>\n",
      "(10, 20) <class 'tuple'>\n",
      "(10, 20, 30) <class 'tuple'>\n",
      "(10, 20, 30, 50, 60) <class 'tuple'>\n"
     ]
    }
   ],
   "source": [
    "def add_nums(*nums):# starargs\n",
    "    print(nums, type(nums))\n",
    "add_nums()\n",
    "add_nums(10)\n",
    "add_nums(10,20)# positional arguments\n",
    "add_nums(10,20,30)\n",
    "add_nums(10,20,30,50,60)"
   ]
  },
  {
   "cell_type": "code",
   "execution_count": 18,
   "id": "819ec125",
   "metadata": {},
   "outputs": [
    {
     "name": "stdout",
     "output_type": "stream",
     "text": [
      "() <class 'tuple'>\n",
      "0\n",
      "(10,) <class 'tuple'>\n",
      "10\n",
      "(10, 20) <class 'tuple'>\n",
      "30\n",
      "(10, 20, 30) <class 'tuple'>\n",
      "60\n",
      "(10, 20, 30, 50, 60) <class 'tuple'>\n",
      "170\n"
     ]
    }
   ],
   "source": [
    "def add_nums(*nums):# starargs\n",
    "    print(nums, type(nums))\n",
    "    print(sum(nums))\n",
    "add_nums()\n",
    "add_nums(10)\n",
    "add_nums(10,20)# positional arguments\n",
    "add_nums(10,20,30)\n",
    "add_nums(10,20,30,50,60)"
   ]
  },
  {
   "cell_type": "code",
   "execution_count": 19,
   "id": "8bb6407c",
   "metadata": {},
   "outputs": [
    {
     "ename": "SyntaxError",
     "evalue": "invalid syntax (2583907054.py, line 4)",
     "output_type": "error",
     "traceback": [
      "\u001b[1;36m  File \u001b[1;32m\"C:\\Users\\samba\\AppData\\Local\\Temp\\ipykernel_17644\\2583907054.py\"\u001b[1;36m, line \u001b[1;32m4\u001b[0m\n\u001b[1;33m    add_nums(10,20,,30)\u001b[0m\n\u001b[1;37m                   ^\u001b[0m\n\u001b[1;31mSyntaxError\u001b[0m\u001b[1;31m:\u001b[0m invalid syntax\n"
     ]
    }
   ],
   "source": [
    "def add_nums(n1,n2,n3=0,n4=0,n5=0):# default arguments\n",
    "    print(f\"n1={n1},n2={n2},n3={n3},n4={n4},n5={n5}\")\n",
    "add_nums(10,20)# positional arguments\n",
    "add_nums(10,20,,30)"
   ]
  },
  {
   "cell_type": "code",
   "execution_count": 20,
   "id": "64b8f5e7",
   "metadata": {},
   "outputs": [
    {
     "name": "stdout",
     "output_type": "stream",
     "text": [
      "n1=10,n2=20,n3=0,n4=0,n5=0\n",
      "n1=10,n2=20,n3=0,n4=30,n5=0\n"
     ]
    }
   ],
   "source": [
    "def add_nums(n1,n2,n3=0,n4=0,n5=0):# default arguments\n",
    "    print(f\"n1={n1},n2={n2},n3={n3},n4={n4},n5={n5}\")\n",
    "add_nums(10,20)# positional arguments\n",
    "add_nums(10,20,0,30)"
   ]
  },
  {
   "cell_type": "code",
   "execution_count": 21,
   "id": "68db5d34",
   "metadata": {},
   "outputs": [
    {
     "name": "stdout",
     "output_type": "stream",
     "text": [
      "n1=10,n2=20,n3=0,n4=0,n5=0\n",
      "n1=10,n2=20,n3=0,n4=30,n5=0\n"
     ]
    }
   ],
   "source": [
    "def add_nums(n1,n2,n3=0,n4=0,n5=0):# default arguments\n",
    "    print(f\"n1={n1},n2={n2},n3={n3},n4={n4},n5={n5}\")\n",
    "add_nums(10,20)# positional arguments\n",
    "add_nums(10,20,n4=30)# keyword argument"
   ]
  },
  {
   "cell_type": "code",
   "execution_count": 22,
   "id": "e05c373f",
   "metadata": {},
   "outputs": [
    {
     "name": "stdout",
     "output_type": "stream",
     "text": [
      "n1=10,n2=20,n3=0,n4=0,n5=0\n",
      "n1=20,n2=30,n3=0,n4=60,n5=0\n"
     ]
    }
   ],
   "source": [
    "def add_nums(n1,n2,n3=0,n4=0,n5=0):# default arguments\n",
    "    print(f\"n1={n1},n2={n2},n3={n3},n4={n4},n5={n5}\")\n",
    "add_nums(10,20)# positional arguments\n",
    "add_nums(n2=30,n1=20,n4=60)# keyword argument"
   ]
  },
  {
   "cell_type": "code",
   "execution_count": 1,
   "id": "26503af0",
   "metadata": {},
   "outputs": [
    {
     "name": "stdout",
     "output_type": "stream",
     "text": [
      "before fun def x=1200,y=1300,a=1000,b=2000\n",
      "after fun def x=1200,y=1300,a=1000,b=2000\n",
      "inside fun x=1000,y=2000,a=1000,b=2000\n",
      "z=3000\n",
      "after fun call x=1200,y=1300,a=1000,b=2000\n"
     ]
    }
   ],
   "source": [
    "a=1000\n",
    "b=2000\n",
    "x=1200\n",
    "y=1300\n",
    "print(f\"before fun def x={x},y={y},a={a},b={b}\")\n",
    "def add(x,y):\n",
    "    print(f\"inside fun x={x},y={y},a={a},b={b}\")\n",
    "    z=x+y\n",
    "    print(f\"z={z}\")\n",
    "print(f\"after fun def x={x},y={y},a={a},b={b}\")\n",
    "add(a,b)\n",
    "print(f\"after fun call x={x},y={y},a={a},b={b}\")"
   ]
  },
  {
   "cell_type": "code",
   "execution_count": 2,
   "id": "d35af8dd",
   "metadata": {},
   "outputs": [
    {
     "name": "stdout",
     "output_type": "stream",
     "text": [
      "<function add at 0x00000246BAB8C040> <class 'function'> 2502803636288\n"
     ]
    }
   ],
   "source": [
    "def add(x,y):\n",
    "    print(f\"inside fun x={x},y={y},a={a},b={b}\")\n",
    "    z=x+y\n",
    "    print(f\"z={z}\")\n",
    "print(add, type(add), id(add))"
   ]
  },
  {
   "cell_type": "code",
   "execution_count": 3,
   "id": "c9b4eda3",
   "metadata": {},
   "outputs": [
    {
     "name": "stdout",
     "output_type": "stream",
     "text": [
      "before fun call x=1200,y=1300,a=1000,b=2000,z=4000\n",
      "inside fun x=1000,y=2000,a=1000,b=2000\n",
      "z=3000\n",
      "after fun call x=1200,y=1300,a=1000,b=2000,z=4000\n"
     ]
    }
   ],
   "source": [
    "a=1000\n",
    "b=2000\n",
    "x=1200\n",
    "y=1300\n",
    "z=4000\n",
    "def add1(x,y):\n",
    "    global z\n",
    "    z=x+y\n",
    "    print(f\"inside fun x={x},y={y},a={a},b={b},z={z}\")\n",
    "print(f\"before fun call x={x},y={y},a={a},b={b},z={z}\")\n",
    "add(a,b)\n",
    "print(f\"after fun call x={x},y={y},a={a},b={b},z={z}\")"
   ]
  },
  {
   "cell_type": "code",
   "execution_count": 4,
   "id": "8939ff94",
   "metadata": {},
   "outputs": [
    {
     "name": "stdout",
     "output_type": "stream",
     "text": [
      "z= 30\n"
     ]
    }
   ],
   "source": [
    "def add(x,y):\n",
    "    z=x+y\n",
    "    print(\"z=\",z)\n",
    "add(10,20)"
   ]
  },
  {
   "cell_type": "code",
   "execution_count": 5,
   "id": "f019e178",
   "metadata": {},
   "outputs": [
    {
     "name": "stdout",
     "output_type": "stream",
     "text": [
      "z= 30\n",
      "<function add at 0x00000246BAB8C550> <function add at 0x00000246BAB8C550>\n"
     ]
    }
   ],
   "source": [
    "def add(x,y):\n",
    "    z=x+y\n",
    "    print(\"z=\",z)\n",
    "add(10,20)\n",
    "a1=add\n",
    "print(a1, add)"
   ]
  },
  {
   "cell_type": "code",
   "execution_count": 6,
   "id": "7eed2cf5",
   "metadata": {},
   "outputs": [
    {
     "name": "stdout",
     "output_type": "stream",
     "text": [
      "z= 30\n",
      "<function add at 0x00000246BAB8C700> <function add at 0x00000246BAB8C700>\n",
      "z= 300\n"
     ]
    }
   ],
   "source": [
    "# function is an object in the memory, function name is the refernce to that object.\n",
    "# fun reference can be assigned to some other reference\n",
    "def add(x,y):\n",
    "    z=x+y\n",
    "    print(\"z=\",z)\n",
    "add(10,20)\n",
    "a1=add\n",
    "print(a1, add)\n",
    "a1(100,200)"
   ]
  },
  {
   "cell_type": "code",
   "execution_count": 1,
   "id": "640a88e3",
   "metadata": {},
   "outputs": [
    {
     "name": "stdout",
     "output_type": "stream",
     "text": [
      "15\n"
     ]
    }
   ],
   "source": [
    "def add(*a):\n",
    "    print(sum(a))\n",
    "add(1,2,3,4,5)"
   ]
  },
  {
   "cell_type": "code",
   "execution_count": 2,
   "id": "f225d97a",
   "metadata": {},
   "outputs": [
    {
     "name": "stdout",
     "output_type": "stream",
     "text": [
      "name=name1,ahe=23,adhar=None,passport=fwrwer\n"
     ]
    }
   ],
   "source": [
    "def user_registration(name, age, adhar=None, passport=None):\n",
    "    print(f\"name={name},ahe={age},adhar={adhar},passport={passport}\")\n",
    "user_registration(\"name1\",23,passport=\"fwrwer\")"
   ]
  },
  {
   "cell_type": "code",
   "execution_count": 3,
   "id": "82578fe0",
   "metadata": {},
   "outputs": [
    {
     "ename": "TypeError",
     "evalue": "user_registration() got an unexpected keyword argument 'pancard'",
     "output_type": "error",
     "traceback": [
      "\u001b[1;31m---------------------------------------------------------------------------\u001b[0m",
      "\u001b[1;31mTypeError\u001b[0m                                 Traceback (most recent call last)",
      "\u001b[1;32m~\\AppData\\Local\\Temp\\ipykernel_17384\\815137682.py\u001b[0m in \u001b[0;36m<module>\u001b[1;34m\u001b[0m\n\u001b[0;32m      1\u001b[0m \u001b[1;32mdef\u001b[0m \u001b[0muser_registration\u001b[0m\u001b[1;33m(\u001b[0m\u001b[0mname\u001b[0m\u001b[1;33m,\u001b[0m \u001b[0mage\u001b[0m\u001b[1;33m,\u001b[0m \u001b[0madhar\u001b[0m\u001b[1;33m=\u001b[0m\u001b[1;32mNone\u001b[0m\u001b[1;33m,\u001b[0m \u001b[0mpassport\u001b[0m\u001b[1;33m=\u001b[0m\u001b[1;32mNone\u001b[0m\u001b[1;33m)\u001b[0m\u001b[1;33m:\u001b[0m\u001b[1;33m\u001b[0m\u001b[1;33m\u001b[0m\u001b[0m\n\u001b[0;32m      2\u001b[0m     \u001b[0mprint\u001b[0m\u001b[1;33m(\u001b[0m\u001b[1;34mf\"name={name},ahe={age},adhar={adhar},passport={passport}\"\u001b[0m\u001b[1;33m)\u001b[0m\u001b[1;33m\u001b[0m\u001b[1;33m\u001b[0m\u001b[0m\n\u001b[1;32m----> 3\u001b[1;33m \u001b[0muser_registration\u001b[0m\u001b[1;33m(\u001b[0m\u001b[1;34m\"name1\"\u001b[0m\u001b[1;33m,\u001b[0m\u001b[1;36m23\u001b[0m\u001b[1;33m,\u001b[0m\u001b[0mpassport\u001b[0m\u001b[1;33m=\u001b[0m\u001b[1;34m\"fwrwer\"\u001b[0m\u001b[1;33m,\u001b[0m \u001b[0mpancard\u001b[0m\u001b[1;33m=\u001b[0m\u001b[1;34m\"pan1\"\u001b[0m\u001b[1;33m)\u001b[0m\u001b[1;33m\u001b[0m\u001b[1;33m\u001b[0m\u001b[0m\n\u001b[0m",
      "\u001b[1;31mTypeError\u001b[0m: user_registration() got an unexpected keyword argument 'pancard'"
     ]
    }
   ],
   "source": [
    "def user_registration(name, age, adhar=None, passport=None):\n",
    "    print(f\"name={name},ahe={age},adhar={adhar},passport={passport}\")\n",
    "user_registration(\"name1\",23,passport=\"fwrwer\", pancard=\"pan1\")"
   ]
  },
  {
   "cell_type": "code",
   "execution_count": 4,
   "id": "8bc0c258",
   "metadata": {},
   "outputs": [
    {
     "name": "stdout",
     "output_type": "stream",
     "text": [
      "name=name1,ahe=23,adhar=None,passport=fwrwer\n",
      "{'pancard': 'pan1'}\n"
     ]
    }
   ],
   "source": [
    "def user_registration(name, age, adhar=None, passport=None, **extra_args):#**kwargs\n",
    "    print(f\"name={name},ahe={age},adhar={adhar},passport={passport}\")\n",
    "    print(extra_args)\n",
    "user_registration(\"name1\",23,passport=\"fwrwer\", pancard=\"pan1\")"
   ]
  },
  {
   "cell_type": "code",
   "execution_count": 5,
   "id": "9639c5fc",
   "metadata": {},
   "outputs": [
    {
     "name": "stdout",
     "output_type": "stream",
     "text": [
      "x=10,y=20,args=(30, 40, 50, 60),kwargs={}\n"
     ]
    }
   ],
   "source": [
    "def fun(x,y=None,*args,**kwargs):\n",
    "    print(f\"x={x},y={y},args={args},kwargs={kwargs}\")\n",
    "fun(10,20,30,40,50,60)"
   ]
  },
  {
   "cell_type": "code",
   "execution_count": 6,
   "id": "6cc64855",
   "metadata": {},
   "outputs": [
    {
     "name": "stdout",
     "output_type": "stream",
     "text": [
      "x=10,y=20,args=(30, 40, 50, 60),kwargs={'p': 200, 'q': 300}\n"
     ]
    }
   ],
   "source": [
    "def fun(x,y=None,*args,**kwargs):\n",
    "    print(f\"x={x},y={y},args={args},kwargs={kwargs}\")\n",
    "fun(10,20,30,40,50,60,p=200,q=300)"
   ]
  },
  {
   "cell_type": "code",
   "execution_count": 7,
   "id": "7a276750",
   "metadata": {},
   "outputs": [
    {
     "ename": "TypeError",
     "evalue": "fun() got multiple values for argument 'x'",
     "output_type": "error",
     "traceback": [
      "\u001b[1;31m---------------------------------------------------------------------------\u001b[0m",
      "\u001b[1;31mTypeError\u001b[0m                                 Traceback (most recent call last)",
      "\u001b[1;32m~\\AppData\\Local\\Temp\\ipykernel_17384\\3154427661.py\u001b[0m in \u001b[0;36m<module>\u001b[1;34m\u001b[0m\n\u001b[0;32m      1\u001b[0m \u001b[1;32mdef\u001b[0m \u001b[0mfun\u001b[0m\u001b[1;33m(\u001b[0m\u001b[0mx\u001b[0m\u001b[1;33m,\u001b[0m\u001b[0my\u001b[0m\u001b[1;33m=\u001b[0m\u001b[1;32mNone\u001b[0m\u001b[1;33m,\u001b[0m\u001b[1;33m*\u001b[0m\u001b[0margs\u001b[0m\u001b[1;33m,\u001b[0m\u001b[1;33m**\u001b[0m\u001b[0mkwargs\u001b[0m\u001b[1;33m)\u001b[0m\u001b[1;33m:\u001b[0m\u001b[1;33m\u001b[0m\u001b[1;33m\u001b[0m\u001b[0m\n\u001b[0;32m      2\u001b[0m     \u001b[0mprint\u001b[0m\u001b[1;33m(\u001b[0m\u001b[1;34mf\"x={x},y={y},args={args},kwargs={kwargs}\"\u001b[0m\u001b[1;33m)\u001b[0m\u001b[1;33m\u001b[0m\u001b[1;33m\u001b[0m\u001b[0m\n\u001b[1;32m----> 3\u001b[1;33m \u001b[0mfun\u001b[0m\u001b[1;33m(\u001b[0m\u001b[1;36m10\u001b[0m\u001b[1;33m,\u001b[0m\u001b[1;36m20\u001b[0m\u001b[1;33m,\u001b[0m\u001b[1;36m30\u001b[0m\u001b[1;33m,\u001b[0m\u001b[1;36m40\u001b[0m\u001b[1;33m,\u001b[0m\u001b[1;36m50\u001b[0m\u001b[1;33m,\u001b[0m\u001b[1;36m60\u001b[0m\u001b[1;33m,\u001b[0m\u001b[0mx\u001b[0m\u001b[1;33m=\u001b[0m\u001b[1;36m200\u001b[0m\u001b[1;33m,\u001b[0m\u001b[0mq\u001b[0m\u001b[1;33m=\u001b[0m\u001b[1;36m300\u001b[0m\u001b[1;33m)\u001b[0m\u001b[1;33m\u001b[0m\u001b[1;33m\u001b[0m\u001b[0m\n\u001b[0m",
      "\u001b[1;31mTypeError\u001b[0m: fun() got multiple values for argument 'x'"
     ]
    }
   ],
   "source": [
    "def fun(x,y=None,*args,**kwargs):\n",
    "    print(f\"x={x},y={y},args={args},kwargs={kwargs}\")\n",
    "fun(10,20,30,40,50,60,x=200,q=300)"
   ]
  },
  {
   "cell_type": "code",
   "execution_count": 8,
   "id": "e493b913",
   "metadata": {},
   "outputs": [
    {
     "name": "stdout",
     "output_type": "stream",
     "text": [
      "z= 30\n",
      "result= None\n"
     ]
    }
   ],
   "source": [
    "def add(x,y):\n",
    "    z=x+y\n",
    "    print(\"z=\",z)\n",
    "res=add(10,20)\n",
    "print(\"result=\",res)"
   ]
  },
  {
   "cell_type": "code",
   "execution_count": 9,
   "id": "bd72a0be",
   "metadata": {},
   "outputs": [
    {
     "name": "stdout",
     "output_type": "stream",
     "text": [
      "z= 30\n",
      "result= 320\n"
     ]
    }
   ],
   "source": [
    "def add(x,y):\n",
    "    z=x+y\n",
    "    print(\"z=\",z)\n",
    "    return 320\n",
    "res=add(10,20)\n",
    "print(\"result=\",res)"
   ]
  },
  {
   "cell_type": "code",
   "execution_count": 10,
   "id": "e23510f8",
   "metadata": {},
   "outputs": [
    {
     "name": "stdout",
     "output_type": "stream",
     "text": [
      "result= 320\n"
     ]
    }
   ],
   "source": [
    "def add(x,y):\n",
    "    a=x+y\n",
    "    b=x-y\n",
    "    c=x*y\n",
    "    return 320\n",
    "res=add(10,20)\n",
    "print(\"result=\",res)"
   ]
  },
  {
   "cell_type": "code",
   "execution_count": 11,
   "id": "00a7417c",
   "metadata": {},
   "outputs": [
    {
     "name": "stdout",
     "output_type": "stream",
     "text": [
      "result= 30\n"
     ]
    }
   ],
   "source": [
    "def add(x,y):\n",
    "    a=x+y\n",
    "    b=x-y\n",
    "    c=x*y\n",
    "    return a\n",
    "res=add(10,20)\n",
    "print(\"result=\",res)"
   ]
  },
  {
   "cell_type": "code",
   "execution_count": 12,
   "id": "b5103789",
   "metadata": {},
   "outputs": [
    {
     "name": "stdout",
     "output_type": "stream",
     "text": [
      "result= (30, -10, 200)\n"
     ]
    }
   ],
   "source": [
    "def add(x,y):\n",
    "    a=x+y\n",
    "    b=x-y\n",
    "    c=x*y\n",
    "    return a,b,c\n",
    "res=add(10,20)\n",
    "print(\"result=\",res)"
   ]
  },
  {
   "cell_type": "code",
   "execution_count": 13,
   "id": "0c7639d0",
   "metadata": {},
   "outputs": [
    {
     "name": "stdout",
     "output_type": "stream",
     "text": [
      "result= (30, -10, 200)\n",
      "r1= <function add at 0x000001E5D78C9E50>\n"
     ]
    }
   ],
   "source": [
    "def add(x,y):\n",
    "    a=x+y\n",
    "    b=x-y\n",
    "    c=x*y\n",
    "    return a,b,c\n",
    "res=add(10,20)\n",
    "print(\"result=\",res)\n",
    "r1=add\n",
    "a=1000\n",
    "b=a\n",
    "print(\"r1=\",r1)"
   ]
  },
  {
   "cell_type": "code",
   "execution_count": 14,
   "id": "ee24540f",
   "metadata": {},
   "outputs": [
    {
     "name": "stdout",
     "output_type": "stream",
     "text": [
      "<function add at 0x000001E5D56DDDC0> 20\n"
     ]
    }
   ],
   "source": [
    "def add(x,y):\n",
    "    return x+y\n",
    "def fun(f1,r1):\n",
    "    print(f1,r1)\n",
    "fun(add,20)"
   ]
  },
  {
   "cell_type": "code",
   "execution_count": 15,
   "id": "206fa3d9",
   "metadata": {},
   "outputs": [
    {
     "name": "stdout",
     "output_type": "stream",
     "text": [
      "30 20\n"
     ]
    }
   ],
   "source": [
    "def add(x,y):\n",
    "    return x+y\n",
    "def fun(f1,r1):\n",
    "    res=f1(10,20)\n",
    "    print(res,r1)\n",
    "fun(add,20)"
   ]
  },
  {
   "cell_type": "code",
   "execution_count": 16,
   "id": "04183e9d",
   "metadata": {},
   "outputs": [
    {
     "ename": "NameError",
     "evalue": "name 'inner' is not defined",
     "output_type": "error",
     "traceback": [
      "\u001b[1;31m---------------------------------------------------------------------------\u001b[0m",
      "\u001b[1;31mNameError\u001b[0m                                 Traceback (most recent call last)",
      "\u001b[1;32m~\\AppData\\Local\\Temp\\ipykernel_17384\\568442108.py\u001b[0m in \u001b[0;36m<module>\u001b[1;34m\u001b[0m\n\u001b[0;32m      8\u001b[0m         \u001b[1;32mreturn\u001b[0m \u001b[0mres\u001b[0m\u001b[1;33m\u001b[0m\u001b[1;33m\u001b[0m\u001b[0m\n\u001b[0;32m      9\u001b[0m     \u001b[1;32mreturn\u001b[0m \u001b[0minner\u001b[0m\u001b[1;33m\u001b[0m\u001b[1;33m\u001b[0m\u001b[0m\n\u001b[1;32m---> 10\u001b[1;33m \u001b[0minner\u001b[0m\u001b[1;33m(\u001b[0m\u001b[1;36m10\u001b[0m\u001b[1;33m,\u001b[0m\u001b[1;36m20\u001b[0m\u001b[1;33m)\u001b[0m\u001b[1;33m\u001b[0m\u001b[1;33m\u001b[0m\u001b[0m\n\u001b[0m",
      "\u001b[1;31mNameError\u001b[0m: name 'inner' is not defined"
     ]
    }
   ],
   "source": [
    "def add(x,y):\n",
    "    return x+y\n",
    "def outer(f1,r1):\n",
    "    print(\"this is outer\")\n",
    "    def inner(x,y):\n",
    "        print(\"this is inner\")\n",
    "        res=f1(x,y)\n",
    "        return res\n",
    "    return inner\n",
    "inner(10,20)"
   ]
  },
  {
   "cell_type": "code",
   "execution_count": 17,
   "id": "e20a68bf",
   "metadata": {},
   "outputs": [
    {
     "name": "stdout",
     "output_type": "stream",
     "text": [
      "this is outer\n",
      "r1= <function outer.<locals>.inner at 0x000001E5D799D0D0>\n"
     ]
    }
   ],
   "source": [
    "def add(x,y):\n",
    "    return x+y\n",
    "def outer(f1,r1):\n",
    "    print(\"this is outer\")\n",
    "    def inner(x,y):\n",
    "        print(\"this is inner\")\n",
    "        res=f1(x,y)\n",
    "        return res\n",
    "    return inner\n",
    "r1=outer(add,200)\n",
    "print(\"r1=\",r1)"
   ]
  },
  {
   "cell_type": "code",
   "execution_count": 18,
   "id": "c2aaa4f7",
   "metadata": {},
   "outputs": [
    {
     "name": "stdout",
     "output_type": "stream",
     "text": [
      "this is outer\n",
      "r1= <function outer.<locals>.inner at 0x000001E5D799D5E0>\n",
      "this is inner\n",
      "result= 30\n"
     ]
    }
   ],
   "source": [
    "def add(x,y):\n",
    "    return x+y\n",
    "def outer(f1,r1):\n",
    "    print(\"this is outer\")\n",
    "    def inner(x,y):\n",
    "        print(\"this is inner\")\n",
    "        res=f1(x,y)\n",
    "        return res\n",
    "    return inner\n",
    "r1=outer(add,200)\n",
    "print(\"r1=\",r1)\n",
    "res=r1(10,20)\n",
    "print(\"result=\",res)"
   ]
  },
  {
   "cell_type": "code",
   "execution_count": 19,
   "id": "a3597c72",
   "metadata": {},
   "outputs": [
    {
     "name": "stdout",
     "output_type": "stream",
     "text": [
      "result= 30\n"
     ]
    }
   ],
   "source": [
    "def add(x,y):\n",
    "    return x+y\n",
    "def outer(f1,r1):\n",
    "    def inner(x,y):\n",
    "        res=f1(x,y)\n",
    "        return res\n",
    "    return inner\n",
    "r1=outer(add,200)\n",
    "res=r1(10,20)\n",
    "print(\"result=\",res)"
   ]
  },
  {
   "cell_type": "code",
   "execution_count": 20,
   "id": "c5f44ff4",
   "metadata": {},
   "outputs": [
    {
     "name": "stdout",
     "output_type": "stream",
     "text": [
      "result= 30\n",
      "result= 30\n"
     ]
    }
   ],
   "source": [
    "def add(x,y):\n",
    "    return x+y\n",
    "#closure\n",
    "def outer(f1,r1):\n",
    "    def inner(x,y):\n",
    "        res=f1(x,y)\n",
    "        return res\n",
    "    return inner\n",
    "\n",
    "r1=outer(add,200)\n",
    "res=r1(10,20)\n",
    "print(\"result=\",res)\n",
    "res1=add(10,20)\n",
    "print(\"result=\",res1)"
   ]
  },
  {
   "cell_type": "code",
   "execution_count": 22,
   "id": "b1446312",
   "metadata": {},
   "outputs": [
    {
     "name": "stdout",
     "output_type": "stream",
     "text": [
      "30\n",
      "-10\n",
      "200\n"
     ]
    }
   ],
   "source": [
    "def add(x,y):\n",
    "    return x+y\n",
    "def diff(x,y):\n",
    "    return x-y\n",
    "def mul(x,y):\n",
    "    return x*y\n",
    "print(add(10,20))\n",
    "print(diff(10,20))\n",
    "print(mul(10,20))"
   ]
  },
  {
   "cell_type": "code",
   "execution_count": 24,
   "id": "f52ad885",
   "metadata": {},
   "outputs": [
    {
     "name": "stdout",
     "output_type": "stream",
     "text": [
      "x=10,y=20\n",
      "30\n",
      "x=10,y=20\n",
      "-10\n",
      "x=10,y=20\n",
      "200\n"
     ]
    }
   ],
   "source": [
    "def out_closure(fun):\n",
    "    def wrapper(x,y):\n",
    "        print(f\"x={x},y={y}\")\n",
    "        res=fun(x,y)\n",
    "        return res\n",
    "    return wrapper\n",
    "\n",
    "@out_closure\n",
    "def add(x,y):\n",
    "    return x+y\n",
    "@out_closure\n",
    "def diff(x,y):\n",
    "    return x-y\n",
    "@out_closure\n",
    "def mul(x,y):\n",
    "    return x*y\n",
    "res=add(10,20)#out_closure(add)(10,20)\n",
    "print(res)\n",
    "print(diff(10,20))\n",
    "print(mul(10,20))"
   ]
  },
  {
   "cell_type": "code",
   "execution_count": 26,
   "id": "17a50265",
   "metadata": {},
   "outputs": [
    {
     "name": "stdout",
     "output_type": "stream",
     "text": [
      "x=10,y=20\n",
      "30\n",
      "x=10,y=20\n",
      "-10\n",
      "x=10,y=20\n",
      "200\n"
     ]
    }
   ],
   "source": [
    "def out_closure(fun):\n",
    "    def wrapper(x,y):\n",
    "        print(f\"x={x},y={y}\")\n",
    "        if isinstance(x,(int,float)) and isinstance(y, (int,float)):\n",
    "            res=fun(x,y)\n",
    "            return res\n",
    "        else:\n",
    "            print(\"values are invalid.\")\n",
    "    return wrapper\n",
    "\n",
    "@out_closure\n",
    "def add(x,y):\n",
    "    return x+y\n",
    "@out_closure\n",
    "def diff(x,y):\n",
    "    return x-y\n",
    "@out_closure\n",
    "def mul(x,y):\n",
    "    return x*y\n",
    "res=add(10,20)#out_closure(add)(10,20)\n",
    "print(res)\n",
    "print(diff(10,20))\n",
    "print(mul(10,20))"
   ]
  },
  {
   "cell_type": "code",
   "execution_count": 28,
   "id": "a09e5257",
   "metadata": {},
   "outputs": [
    {
     "name": "stdout",
     "output_type": "stream",
     "text": [
      "x=10,y=20\n",
      "30\n",
      "x=10,y=20\n",
      "-10\n",
      "x=10,y=20\n",
      "200\n",
      "x=10,y=asdfasdf\n",
      "values are invalid.\n"
     ]
    }
   ],
   "source": [
    "def out_closure(fun):\n",
    "    def wrapper(x,y):\n",
    "        print(f\"x={x},y={y}\")\n",
    "        if isinstance(x,(int,float)) and isinstance(y, (int,float)):\n",
    "            res=fun(x,y)\n",
    "            return res\n",
    "        else:\n",
    "            return (\"values are invalid.\")\n",
    "    return wrapper\n",
    "\n",
    "@out_closure\n",
    "def add(x,y):\n",
    "    return x+y\n",
    "@out_closure\n",
    "def diff(x,y):\n",
    "    return x-y\n",
    "@out_closure\n",
    "def mul(x,y):\n",
    "    return x*y\n",
    "res=add(10,20)#out_closure(add)(10,20)\n",
    "print(res)\n",
    "print(diff(10,20))\n",
    "print(mul(10,20))\n",
    "print(add(10,\"asdfasdf\"))"
   ]
  },
  {
   "cell_type": "code",
   "execution_count": null,
   "id": "25b6d77f",
   "metadata": {},
   "outputs": [],
   "source": []
  }
 ],
 "metadata": {
  "kernelspec": {
   "display_name": "Python 3 (ipykernel)",
   "language": "python",
   "name": "python3"
  },
  "language_info": {
   "codemirror_mode": {
    "name": "ipython",
    "version": 3
   },
   "file_extension": ".py",
   "mimetype": "text/x-python",
   "name": "python",
   "nbconvert_exporter": "python",
   "pygments_lexer": "ipython3",
   "version": "3.9.13"
  }
 },
 "nbformat": 4,
 "nbformat_minor": 5
}
