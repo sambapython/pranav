{
 "cells": [
  {
   "cell_type": "code",
   "execution_count": 1,
   "id": "7cb5aa3d",
   "metadata": {},
   "outputs": [
    {
     "name": "stdout",
     "output_type": "stream",
     "text": [
      "a is big\n",
      "b is big\n"
     ]
    }
   ],
   "source": [
    "a=1000\n",
    "b=2000\n",
    "print(\"a is big\")\n",
    "print(\"b is big\")"
   ]
  },
  {
   "cell_type": "code",
   "execution_count": 2,
   "id": "3791bdde",
   "metadata": {},
   "outputs": [
    {
     "name": "stdout",
     "output_type": "stream",
     "text": [
      "a is big\n",
      "b is big\n"
     ]
    }
   ],
   "source": [
    "a=1000\n",
    "b=2000\n",
    "if True:\n",
    "    print(\"a is big\")\n",
    "print(\"b is big\")"
   ]
  },
  {
   "cell_type": "code",
   "execution_count": 3,
   "id": "72ab937c",
   "metadata": {},
   "outputs": [
    {
     "name": "stdout",
     "output_type": "stream",
     "text": [
      "b is big\n"
     ]
    }
   ],
   "source": [
    "a=1000\n",
    "b=2000\n",
    "if False:\n",
    "    print(\"a is big\")\n",
    "print(\"b is big\")"
   ]
  },
  {
   "cell_type": "code",
   "execution_count": 4,
   "id": "516c6feb",
   "metadata": {},
   "outputs": [
    {
     "name": "stdout",
     "output_type": "stream",
     "text": [
      "a is big\n",
      "end\n"
     ]
    }
   ],
   "source": [
    "a=1000\n",
    "b=2000\n",
    "if True:\n",
    "    print(\"a is big\")\n",
    "else:\n",
    "    print(\"b is big\")\n",
    "print(\"end\")"
   ]
  },
  {
   "cell_type": "code",
   "execution_count": 5,
   "id": "38a39cea",
   "metadata": {},
   "outputs": [
    {
     "name": "stdout",
     "output_type": "stream",
     "text": [
      "b is big\n",
      "end\n"
     ]
    }
   ],
   "source": [
    "a=1000\n",
    "b=2000\n",
    "if False:\n",
    "    print(\"a is big\")\n",
    "else:\n",
    "    print(\"b is big\")\n",
    "print(\"end\")"
   ]
  },
  {
   "cell_type": "code",
   "execution_count": 6,
   "id": "982f1d33",
   "metadata": {},
   "outputs": [
    {
     "name": "stdout",
     "output_type": "stream",
     "text": [
      "False\n"
     ]
    }
   ],
   "source": [
    "a=1000\n",
    "b=2000\n",
    "print(a>b)"
   ]
  },
  {
   "cell_type": "code",
   "execution_count": 7,
   "id": "73a5705f",
   "metadata": {},
   "outputs": [
    {
     "name": "stdout",
     "output_type": "stream",
     "text": [
      "True\n"
     ]
    }
   ],
   "source": [
    "a=3000\n",
    "b=2000\n",
    "print(a>b)"
   ]
  },
  {
   "cell_type": "code",
   "execution_count": 8,
   "id": "c120d026",
   "metadata": {},
   "outputs": [
    {
     "name": "stdout",
     "output_type": "stream",
     "text": [
      "False\n",
      "b is big\n",
      "end\n"
     ]
    }
   ],
   "source": [
    "a=1000\n",
    "b=2000\n",
    "print(a>b)\n",
    "if a>b:\n",
    "    print(\"a is big\")\n",
    "else:\n",
    "    print(\"b is big\")\n",
    "print(\"end\")"
   ]
  },
  {
   "cell_type": "code",
   "execution_count": 9,
   "id": "d54374f8",
   "metadata": {},
   "outputs": [
    {
     "name": "stdout",
     "output_type": "stream",
     "text": [
      "True\n",
      "a is big\n",
      "end\n"
     ]
    }
   ],
   "source": [
    "a=3000\n",
    "b=2000\n",
    "print(a>b)\n",
    "if a>b:\n",
    "    print(\"a is big\")\n",
    "else:\n",
    "    print(\"b is big\")\n",
    "print(\"end\")"
   ]
  },
  {
   "cell_type": "code",
   "execution_count": 10,
   "id": "8671a8ff",
   "metadata": {},
   "outputs": [
    {
     "name": "stdout",
     "output_type": "stream",
     "text": [
      "False\n",
      "b is big\n",
      "end\n"
     ]
    }
   ],
   "source": [
    "a=2000\n",
    "b=2000\n",
    "print(a>b)\n",
    "if a>b:\n",
    "    print(\"a is big\")\n",
    "else:\n",
    "    print(\"b is big\")\n",
    "print(\"end\")"
   ]
  },
  {
   "cell_type": "code",
   "execution_count": 11,
   "id": "855820f6",
   "metadata": {},
   "outputs": [
    {
     "name": "stdout",
     "output_type": "stream",
     "text": [
      "Enter a value:1000\n",
      "Enter b value:2000\n",
      "False\n",
      "b is big\n",
      "end\n"
     ]
    }
   ],
   "source": [
    "a=input(\"Enter a value:\")\n",
    "b=input(\"Enter b value:\")\n",
    "print(a>b)\n",
    "if a>b:\n",
    "    print(\"a is big\")\n",
    "else:\n",
    "    print(\"b is big\")\n",
    "print(\"end\")"
   ]
  },
  {
   "cell_type": "code",
   "execution_count": 12,
   "id": "6eecf598",
   "metadata": {},
   "outputs": [
    {
     "name": "stdout",
     "output_type": "stream",
     "text": [
      "Enter a value:1000\n",
      "Enter b value:2\n",
      "False\n",
      "b is big\n",
      "end\n"
     ]
    }
   ],
   "source": [
    "a=input(\"Enter a value:\")\n",
    "b=input(\"Enter b value:\")\n",
    "print(a>b)\n",
    "if a>b:\n",
    "    print(\"a is big\")\n",
    "else:\n",
    "    print(\"b is big\")\n",
    "print(\"end\")"
   ]
  },
  {
   "cell_type": "code",
   "execution_count": 13,
   "id": "25c9b19d",
   "metadata": {},
   "outputs": [
    {
     "data": {
      "text/plain": [
       "False"
      ]
     },
     "execution_count": 13,
     "metadata": {},
     "output_type": "execute_result"
    }
   ],
   "source": [
    "\"1000\">\"2\""
   ]
  },
  {
   "cell_type": "code",
   "execution_count": 14,
   "id": "2fd58d27",
   "metadata": {},
   "outputs": [
    {
     "name": "stdout",
     "output_type": "stream",
     "text": [
      "Enter a value:1000\n",
      "Enter b value:2\n",
      "True\n",
      "a is big\n",
      "end\n"
     ]
    }
   ],
   "source": [
    "a=float(input(\"Enter a value:\"))\n",
    "b=float(input(\"Enter b value:\"))\n",
    "print(a>b)\n",
    "if a>b:\n",
    "    print(\"a is big\")\n",
    "else:\n",
    "    print(\"b is big\")\n",
    "print(\"end\")"
   ]
  },
  {
   "cell_type": "code",
   "execution_count": null,
   "id": "6ada011a",
   "metadata": {},
   "outputs": [],
   "source": [
    "# write a program to take a string from the user. Check for string validition.\n",
    "# if string is empty it's a invalid string, other wise it's a valid string."
   ]
  },
  {
   "cell_type": "code",
   "execution_count": null,
   "id": "61b66d06",
   "metadata": {},
   "outputs": [],
   "source": [
    "a = input(\"Enter your value here: \")\n",
    "if len(a)==0:\n",
    "    print(\"Your string is not valid\")\n",
    "else:\n",
    "    print(\"Your string is valid\")\n"
   ]
  },
  {
   "cell_type": "code",
   "execution_count": 15,
   "id": "167f5426",
   "metadata": {},
   "outputs": [
    {
     "name": "stdout",
     "output_type": "stream",
     "text": [
      "True\n"
     ]
    }
   ],
   "source": [
    "a=\"hyd\"\n",
    "print(bool(a))"
   ]
  },
  {
   "cell_type": "code",
   "execution_count": 16,
   "id": "5b50fe69",
   "metadata": {},
   "outputs": [
    {
     "name": "stdout",
     "output_type": "stream",
     "text": [
      "False\n"
     ]
    }
   ],
   "source": [
    "a=\"\"\n",
    "print(bool(a))"
   ]
  },
  {
   "cell_type": "code",
   "execution_count": 17,
   "id": "57dff7b0",
   "metadata": {},
   "outputs": [
    {
     "name": "stdout",
     "output_type": "stream",
     "text": [
      "False\n"
     ]
    }
   ],
   "source": [
    "a=0\n",
    "print(bool(a))"
   ]
  },
  {
   "cell_type": "code",
   "execution_count": 18,
   "id": "f6a2cef6",
   "metadata": {},
   "outputs": [
    {
     "name": "stdout",
     "output_type": "stream",
     "text": [
      "True\n"
     ]
    }
   ],
   "source": [
    "a=10\n",
    "print(bool(a))"
   ]
  },
  {
   "cell_type": "code",
   "execution_count": 19,
   "id": "c8239486",
   "metadata": {},
   "outputs": [
    {
     "name": "stdout",
     "output_type": "stream",
     "text": [
      "True\n"
     ]
    }
   ],
   "source": [
    "a=-10\n",
    "print(bool(a))"
   ]
  },
  {
   "cell_type": "code",
   "execution_count": 20,
   "id": "874b9aa2",
   "metadata": {},
   "outputs": [
    {
     "name": "stdout",
     "output_type": "stream",
     "text": [
      "True\n"
     ]
    }
   ],
   "source": [
    "a=\"0\"\n",
    "print(bool(a))"
   ]
  },
  {
   "cell_type": "code",
   "execution_count": 21,
   "id": "5415ed5c",
   "metadata": {},
   "outputs": [
    {
     "name": "stdout",
     "output_type": "stream",
     "text": [
      "True\n"
     ]
    }
   ],
   "source": [
    "a=[1,2,3,4,0]\n",
    "print(bool(a))"
   ]
  },
  {
   "cell_type": "code",
   "execution_count": 22,
   "id": "c7a8ec20",
   "metadata": {},
   "outputs": [
    {
     "name": "stdout",
     "output_type": "stream",
     "text": [
      "False\n"
     ]
    }
   ],
   "source": [
    "a=[]\n",
    "print(bool(a))"
   ]
  },
  {
   "cell_type": "code",
   "execution_count": 23,
   "id": "8a1b16b9",
   "metadata": {},
   "outputs": [
    {
     "name": "stdout",
     "output_type": "stream",
     "text": [
      "True\n"
     ]
    }
   ],
   "source": [
    "a=[0]\n",
    "print(bool(a))"
   ]
  },
  {
   "cell_type": "code",
   "execution_count": 24,
   "id": "124890dd",
   "metadata": {},
   "outputs": [
    {
     "name": "stdout",
     "output_type": "stream",
     "text": [
      "True\n"
     ]
    }
   ],
   "source": [
    "a=(1,2,3,4,0)\n",
    "print(bool(a))"
   ]
  },
  {
   "cell_type": "code",
   "execution_count": 25,
   "id": "8b2281a2",
   "metadata": {},
   "outputs": [
    {
     "name": "stdout",
     "output_type": "stream",
     "text": [
      "False\n"
     ]
    }
   ],
   "source": [
    "a=(0)\n",
    "print(bool(a))"
   ]
  },
  {
   "cell_type": "code",
   "execution_count": 26,
   "id": "c944f8f2",
   "metadata": {},
   "outputs": [
    {
     "name": "stdout",
     "output_type": "stream",
     "text": [
      "<class 'int'>\n"
     ]
    }
   ],
   "source": [
    "a=(0)\n",
    "print(type(a))"
   ]
  },
  {
   "cell_type": "code",
   "execution_count": 27,
   "id": "fd35991c",
   "metadata": {},
   "outputs": [
    {
     "name": "stdout",
     "output_type": "stream",
     "text": [
      "<class 'tuple'>\n"
     ]
    }
   ],
   "source": [
    "a=(0,)\n",
    "print(type(a))"
   ]
  },
  {
   "cell_type": "code",
   "execution_count": 28,
   "id": "b1c546cb",
   "metadata": {},
   "outputs": [
    {
     "name": "stdout",
     "output_type": "stream",
     "text": [
      "<class 'tuple'>\n",
      "True\n"
     ]
    }
   ],
   "source": [
    "a=(0,)\n",
    "print(type(a))\n",
    "print(bool(a))"
   ]
  },
  {
   "cell_type": "code",
   "execution_count": 29,
   "id": "f92da057",
   "metadata": {},
   "outputs": [
    {
     "name": "stdout",
     "output_type": "stream",
     "text": [
      "Enter your value here: hyd\n",
      "Your string is valid\n"
     ]
    }
   ],
   "source": [
    "a = input(\"Enter your value here: \")\n",
    "if bool(a):\n",
    "    print(\"Your string is valid\")\n",
    "else:\n",
    "    print(\"Your string is not valid\")"
   ]
  },
  {
   "cell_type": "code",
   "execution_count": 30,
   "id": "1ee925e3",
   "metadata": {},
   "outputs": [
    {
     "name": "stdout",
     "output_type": "stream",
     "text": [
      "Enter your value here: \n",
      "Your string is not valid\n"
     ]
    }
   ],
   "source": [
    "a = input(\"Enter your value here: \")\n",
    "if bool(a):\n",
    "    print(\"Your string is valid\")\n",
    "else:\n",
    "    print(\"Your string is not valid\")"
   ]
  },
  {
   "cell_type": "code",
   "execution_count": 31,
   "id": "187b7240",
   "metadata": {},
   "outputs": [
    {
     "name": "stdout",
     "output_type": "stream",
     "text": [
      "Enter your value here: \n",
      "Your string is not valid\n"
     ]
    }
   ],
   "source": [
    "a = input(\"Enter your value here: \")\n",
    "if a:# internally pass to bool method.\n",
    "    print(\"Your string is valid\")\n",
    "else:\n",
    "    print(\"Your string is not valid\")"
   ]
  },
  {
   "cell_type": "code",
   "execution_count": 32,
   "id": "6a01ae74",
   "metadata": {},
   "outputs": [
    {
     "name": "stdout",
     "output_type": "stream",
     "text": [
      "Enter your value here: sjdflksd\n",
      "Your string is valid\n"
     ]
    }
   ],
   "source": [
    "a = input(\"Enter your value here: \")\n",
    "if a:# internally pass to bool method.\n",
    "    print(\"Your string is valid\")\n",
    "else:\n",
    "    print(\"Your string is not valid\")"
   ]
  },
  {
   "cell_type": "code",
   "execution_count": 34,
   "id": "822c03d2",
   "metadata": {},
   "outputs": [
    {
     "name": "stdout",
     "output_type": "stream",
     "text": [
      "Your string is not valid\n"
     ]
    }
   ],
   "source": [
    "if \"\":# internally pass to bool method.\n",
    "    print(\"Your string is valid\")\n",
    "else:\n",
    "    print(\"Your string is not valid\")"
   ]
  },
  {
   "cell_type": "code",
   "execution_count": 35,
   "id": "c85db836",
   "metadata": {},
   "outputs": [
    {
     "name": "stdout",
     "output_type": "stream",
     "text": [
      "Your string is valid\n"
     ]
    }
   ],
   "source": [
    "if \"pytohssd\":# internally pass to bool method.\n",
    "    print(\"Your string is valid\")\n",
    "else:\n",
    "    print(\"Your string is not valid\")"
   ]
  },
  {
   "cell_type": "code",
   "execution_count": null,
   "id": "0ecadb67",
   "metadata": {},
   "outputs": [],
   "source": [
    "if [0]:\n",
    "    print(\"Your string is valid\")\n",
    "else:\n",
    "    print(\"Your string is not valid\")\n"
   ]
  },
  {
   "cell_type": "code",
   "execution_count": 36,
   "id": "46aa8b02",
   "metadata": {},
   "outputs": [
    {
     "data": {
      "text/plain": [
       "False"
      ]
     },
     "execution_count": 36,
     "metadata": {},
     "output_type": "execute_result"
    }
   ],
   "source": [
    "bool(None)"
   ]
  },
  {
   "cell_type": "code",
   "execution_count": 37,
   "id": "86f31ca1",
   "metadata": {},
   "outputs": [
    {
     "data": {
      "text/plain": [
       "97"
      ]
     },
     "execution_count": 37,
     "metadata": {},
     "output_type": "execute_result"
    }
   ],
   "source": [
    "ord(\"a\")"
   ]
  },
  {
   "cell_type": "code",
   "execution_count": 38,
   "id": "b5a4b2fb",
   "metadata": {},
   "outputs": [
    {
     "data": {
      "text/plain": [
       "122"
      ]
     },
     "execution_count": 38,
     "metadata": {},
     "output_type": "execute_result"
    }
   ],
   "source": [
    "ord(\"z\")"
   ]
  },
  {
   "cell_type": "code",
   "execution_count": 39,
   "id": "dee7d008",
   "metadata": {},
   "outputs": [
    {
     "data": {
      "text/plain": [
       "90"
      ]
     },
     "execution_count": 39,
     "metadata": {},
     "output_type": "execute_result"
    }
   ],
   "source": [
    "ord(\"Z\")"
   ]
  },
  {
   "cell_type": "code",
   "execution_count": 40,
   "id": "ccefd241",
   "metadata": {},
   "outputs": [
    {
     "data": {
      "text/plain": [
       "65"
      ]
     },
     "execution_count": 40,
     "metadata": {},
     "output_type": "execute_result"
    }
   ],
   "source": [
    "ord(\"A\")"
   ]
  },
  {
   "cell_type": "code",
   "execution_count": 41,
   "id": "d1ce8753",
   "metadata": {},
   "outputs": [
    {
     "name": "stdout",
     "output_type": "stream",
     "text": [
      "Enter\n"
     ]
    }
   ],
   "source": [
    "char=input(\"Enter single character:\")\n",
    "if ord(char)>=97 and ord(char)<=122:\n",
    "    print(\"it's a small letter\")\n"
   ]
  },
  {
   "cell_type": "code",
   "execution_count": 42,
   "id": "4237581f",
   "metadata": {},
   "outputs": [
    {
     "name": "stdout",
     "output_type": "stream",
     "text": [
      "True\n",
      "False\n",
      "False\n",
      "False\n"
     ]
    }
   ],
   "source": [
    "print(True and True)\n",
    "print(True and False)\n",
    "print(False and True)\n",
    "print(False and False)"
   ]
  },
  {
   "cell_type": "code",
   "execution_count": 43,
   "id": "1e283db9",
   "metadata": {},
   "outputs": [
    {
     "name": "stdout",
     "output_type": "stream",
     "text": [
      "True\n",
      "True\n",
      "True\n",
      "False\n"
     ]
    }
   ],
   "source": [
    "print(True or True)\n",
    "print(True or False)\n",
    "print(False or True)\n",
    "print(False or False)"
   ]
  },
  {
   "cell_type": "code",
   "execution_count": 44,
   "id": "3d2f54cb",
   "metadata": {},
   "outputs": [
    {
     "name": "stdout",
     "output_type": "stream",
     "text": [
      "Enter single character:s\n",
      "it's a small letter\n"
     ]
    }
   ],
   "source": [
    "char=input(\"Enter single character:\")\n",
    "if ord(char)>=97 and ord(char)<=122:\n",
    "    print(\"it's a small letter\")\n",
    "else:\n",
    "    print(\"It's not small letter\")\n"
   ]
  },
  {
   "cell_type": "code",
   "execution_count": 45,
   "id": "e286acdd",
   "metadata": {},
   "outputs": [
    {
     "name": "stdout",
     "output_type": "stream",
     "text": [
      "Enter single character:R\n",
      "It's not small letter\n"
     ]
    }
   ],
   "source": [
    "char=input(\"Enter single character:\")\n",
    "if ord(char)>=97 and ord(char)<=122:\n",
    "    print(\"it's a small letter\")\n",
    "else:\n",
    "    print(\"It's not small letter\")"
   ]
  },
  {
   "cell_type": "code",
   "execution_count": 46,
   "id": "c9d97b92",
   "metadata": {},
   "outputs": [],
   "source": [
    "# in operator"
   ]
  },
  {
   "cell_type": "code",
   "execution_count": 47,
   "id": "18d5fbdb",
   "metadata": {},
   "outputs": [
    {
     "data": {
      "text/plain": [
       "True"
      ]
     },
     "execution_count": 47,
     "metadata": {},
     "output_type": "execute_result"
    }
   ],
   "source": [
    "\"p\" in \"apple\""
   ]
  },
  {
   "cell_type": "code",
   "execution_count": 48,
   "id": "7fa99ef3",
   "metadata": {},
   "outputs": [
    {
     "data": {
      "text/plain": [
       "False"
      ]
     },
     "execution_count": 48,
     "metadata": {},
     "output_type": "execute_result"
    }
   ],
   "source": [
    "\"q\" in \"apple\""
   ]
  },
  {
   "cell_type": "code",
   "execution_count": 49,
   "id": "fa3de24d",
   "metadata": {},
   "outputs": [
    {
     "data": {
      "text/plain": [
       "True"
      ]
     },
     "execution_count": 49,
     "metadata": {},
     "output_type": "execute_result"
    }
   ],
   "source": [
    "1 in [1,2,3,4] "
   ]
  },
  {
   "cell_type": "code",
   "execution_count": 50,
   "id": "34cd4bdd",
   "metadata": {},
   "outputs": [
    {
     "data": {
      "text/plain": [
       "False"
      ]
     },
     "execution_count": 50,
     "metadata": {},
     "output_type": "execute_result"
    }
   ],
   "source": [
    "5 in [1,2,3,4] "
   ]
  },
  {
   "cell_type": "code",
   "execution_count": 51,
   "id": "266ae194",
   "metadata": {},
   "outputs": [
    {
     "data": {
      "text/plain": [
       "[0, 1, 2, 3, 4, 5, 6, 7, 8, 9, 10]"
      ]
     },
     "execution_count": 51,
     "metadata": {},
     "output_type": "execute_result"
    }
   ],
   "source": [
    "list(range(0, 11))"
   ]
  },
  {
   "cell_type": "code",
   "execution_count": 52,
   "id": "7bb8a5be",
   "metadata": {},
   "outputs": [
    {
     "data": {
      "text/plain": [
       "[5, 6, 7, 8, 9, 10]"
      ]
     },
     "execution_count": 52,
     "metadata": {},
     "output_type": "execute_result"
    }
   ],
   "source": [
    "list(range(5, 11))"
   ]
  },
  {
   "cell_type": "code",
   "execution_count": 53,
   "id": "3d50a318",
   "metadata": {},
   "outputs": [
    {
     "data": {
      "text/plain": [
       "[5, 7, 9, 11, 13, 15, 17, 19]"
      ]
     },
     "execution_count": 53,
     "metadata": {},
     "output_type": "execute_result"
    }
   ],
   "source": [
    "list(range(5, 20, 2))"
   ]
  },
  {
   "cell_type": "code",
   "execution_count": 54,
   "id": "df0d7db5",
   "metadata": {},
   "outputs": [
    {
     "data": {
      "text/plain": [
       "[]"
      ]
     },
     "execution_count": 54,
     "metadata": {},
     "output_type": "execute_result"
    }
   ],
   "source": [
    "list(range(10,5))"
   ]
  },
  {
   "cell_type": "code",
   "execution_count": 55,
   "id": "41a7d87d",
   "metadata": {},
   "outputs": [
    {
     "data": {
      "text/plain": [
       "[10, 9, 8, 7, 6]"
      ]
     },
     "execution_count": 55,
     "metadata": {},
     "output_type": "execute_result"
    }
   ],
   "source": [
    "list(range(10,5, -1))"
   ]
  },
  {
   "cell_type": "code",
   "execution_count": 56,
   "id": "57a1db46",
   "metadata": {},
   "outputs": [
    {
     "name": "stdout",
     "output_type": "stream",
     "text": [
      "Enter single character:e\n",
      "it's a small letter\n"
     ]
    }
   ],
   "source": [
    "char=input(\"Enter single character:\")\n",
    "#if ord(char)>=97 and ord(char)<=122:\n",
    "if ord(char) in range(97, 123):\n",
    "    print(\"it's a small letter\")\n",
    "else:\n",
    "    print(\"It's not small letter\")"
   ]
  },
  {
   "cell_type": "code",
   "execution_count": 57,
   "id": "cf959d25",
   "metadata": {},
   "outputs": [
    {
     "name": "stdout",
     "output_type": "stream",
     "text": [
      "Enter single character:R\n",
      "It's not small letter\n"
     ]
    }
   ],
   "source": [
    "char=input(\"Enter single character:\")\n",
    "#if ord(char)>=97 and ord(char)<=122:\n",
    "if ord(char) in range(97, 123):\n",
    "    print(\"it's a small letter\")\n",
    "else:\n",
    "    print(\"It's not small letter\")"
   ]
  },
  {
   "cell_type": "code",
   "execution_count": 58,
   "id": "9a5c0862",
   "metadata": {},
   "outputs": [
    {
     "data": {
      "text/plain": [
       "48"
      ]
     },
     "execution_count": 58,
     "metadata": {},
     "output_type": "execute_result"
    }
   ],
   "source": [
    "ord(\"0\")"
   ]
  },
  {
   "cell_type": "code",
   "execution_count": 59,
   "id": "9c67347b",
   "metadata": {},
   "outputs": [
    {
     "data": {
      "text/plain": [
       "57"
      ]
     },
     "execution_count": 59,
     "metadata": {},
     "output_type": "execute_result"
    }
   ],
   "source": [
    "ord(\"9\")"
   ]
  },
  {
   "cell_type": "code",
   "execution_count": null,
   "id": "ca286e39",
   "metadata": {},
   "outputs": [],
   "source": [
    "a = input(\"Enter your value here: \")\n",
    "if a in range(97,123) or a in range(65, 91) or a in range(48, 58):\n",
    "    print(\"Your input is not a special character\") \n",
    "else:\n",
    "     print(\"Your input is a special character\")\n"
   ]
  },
  {
   "cell_type": "code",
   "execution_count": 61,
   "id": "66792eef",
   "metadata": {},
   "outputs": [
    {
     "name": "stdout",
     "output_type": "stream",
     "text": [
      "Enter your value here: 6\n",
      "number\n"
     ]
    }
   ],
   "source": [
    "a = input(\"Enter your value here: \")\n",
    "asci = ord(a)\n",
    "if asci in range(97,123):\n",
    "    print(\"small letter\")\n",
    "if asci in range(65, 91):\n",
    "    print(\"capital letter\")\n",
    "if asci in range(48, 58):\n",
    "    print(\"number\")\n",
    "else:\n",
    "     print(\"special character\")\n"
   ]
  },
  {
   "cell_type": "code",
   "execution_count": 62,
   "id": "f402c2bb",
   "metadata": {},
   "outputs": [
    {
     "name": "stdout",
     "output_type": "stream",
     "text": [
      "Enter your value here: 97\n",
      "Your input is a special character\n"
     ]
    }
   ],
   "source": [
    "a = input(\"Enter your value here: \")\n",
    "if a in range(97,123) or a in range(65, 91) or a in range(48, 58):\n",
    "    print(\"Your input is not a special character\") \n",
    "else:\n",
    "     print(\"Your input is a special character\")\n"
   ]
  },
  {
   "cell_type": "code",
   "execution_count": 63,
   "id": "bc26b5f1",
   "metadata": {},
   "outputs": [
    {
     "name": "stdout",
     "output_type": "stream",
     "text": [
      "Enter your value here: 8\n",
      "Your input is a special character\n"
     ]
    }
   ],
   "source": [
    "a = input(\"Enter your value here: \")\n",
    "if a in range(97,123) or a in range(65, 91) or a in range(48, 58):\n",
    "    print(\"Your input is not a special character\") \n",
    "else:\n",
    "     print(\"Your input is a special character\")\n"
   ]
  },
  {
   "cell_type": "code",
   "execution_count": 64,
   "id": "c90c9ece",
   "metadata": {},
   "outputs": [
    {
     "name": "stdout",
     "output_type": "stream",
     "text": [
      "Enter your value here: 3\n",
      "Your input is not a special character\n"
     ]
    }
   ],
   "source": [
    "a = input(\"Enter your value here: \")\n",
    "if a in range(97,123) or range(65, 91) or range(48, 58):\n",
    "    print(\"Your input is not a special character\")\n",
    "else:\n",
    "     print(\"Your input is a special character\")\n"
   ]
  },
  {
   "cell_type": "code",
   "execution_count": 65,
   "id": "3042489f",
   "metadata": {},
   "outputs": [
    {
     "name": "stdout",
     "output_type": "stream",
     "text": [
      "Enter your value here: $\n",
      "Your input is not a special character\n"
     ]
    }
   ],
   "source": [
    "a = input(\"Enter your value here: \")\n",
    "if a in range(97,123) or range(65, 91) or range(48, 58):\n",
    "    print(\"Your input is not a special character\")\n",
    "else:\n",
    "     print(\"Your input is a special character\")\n"
   ]
  },
  {
   "cell_type": "code",
   "execution_count": 66,
   "id": "c2c6103d",
   "metadata": {},
   "outputs": [
    {
     "name": "stdout",
     "output_type": "stream",
     "text": [
      "Enter your value here: 7\n",
      "number\n"
     ]
    }
   ],
   "source": [
    "a = input(\"Enter your value here: \")\n",
    "asci = ord(a)\n",
    "if asci in range(97,123):\n",
    "    print(\"small letter\")\n",
    "if asci in range(65, 91):\n",
    "    print(\"capital letter\")\n",
    "if asci in range(48, 58):\n",
    "    print(\"number\")\n",
    "else:\n",
    "     print(\"special character\")\n"
   ]
  },
  {
   "cell_type": "code",
   "execution_count": 67,
   "id": "4596b1bf",
   "metadata": {},
   "outputs": [
    {
     "name": "stdout",
     "output_type": "stream",
     "text": [
      "Enter your value here: b\n",
      "small letter\n",
      "special character\n"
     ]
    }
   ],
   "source": [
    "a = input(\"Enter your value here: \")\n",
    "asci = ord(a)\n",
    "if asci in range(97,123):\n",
    "    print(\"small letter\")\n",
    "if asci in range(65, 91):\n",
    "    print(\"capital letter\")\n",
    "if asci in range(48, 58):\n",
    "    print(\"number\")\n",
    "else:\n",
    "     print(\"special character\")\n"
   ]
  },
  {
   "cell_type": "code",
   "execution_count": 68,
   "id": "e50930f7",
   "metadata": {},
   "outputs": [
    {
     "name": "stdout",
     "output_type": "stream",
     "text": [
      "Enter your value here: 4\n",
      "number\n",
      "End\n"
     ]
    }
   ],
   "source": [
    "a = input(\"Enter your value here: \")\n",
    "asci = ord(a)\n",
    "if asci in range(97,123):\n",
    "    print(\"small letter\")\n",
    "elif asci in range(65, 91):\n",
    "    print(\"capital letter\")\n",
    "elif asci in range(48, 58):\n",
    "    print(\"number\")\n",
    "else:\n",
    "     print(\"special character\")\n",
    "print(\"End\")"
   ]
  },
  {
   "cell_type": "code",
   "execution_count": 69,
   "id": "bddc631b",
   "metadata": {},
   "outputs": [
    {
     "name": "stdout",
     "output_type": "stream",
     "text": [
      "Enter your value here: q\n",
      "small letter\n",
      "End\n"
     ]
    }
   ],
   "source": [
    "a = input(\"Enter your value here: \")\n",
    "asci = ord(a)\n",
    "if asci in range(97,123):\n",
    "    print(\"small letter\")\n",
    "elif asci in range(65, 91):\n",
    "    print(\"capital letter\")\n",
    "elif asci in range(48, 58):\n",
    "    print(\"number\")\n",
    "else:\n",
    "     print(\"special character\")\n",
    "print(\"End\")"
   ]
  },
  {
   "cell_type": "code",
   "execution_count": 70,
   "id": "213bb309",
   "metadata": {},
   "outputs": [
    {
     "name": "stdout",
     "output_type": "stream",
     "text": [
      "Enter your value here: D\n",
      "capital letter\n",
      "End\n"
     ]
    }
   ],
   "source": [
    "a = input(\"Enter your value here: \")\n",
    "asci = ord(a)\n",
    "if asci in range(97,123):\n",
    "    print(\"small letter\")\n",
    "elif asci in range(65, 91):\n",
    "    print(\"capital letter\")\n",
    "elif asci in range(48, 58):\n",
    "    print(\"number\")\n",
    "else:\n",
    "     print(\"special character\")\n",
    "print(\"End\")"
   ]
  },
  {
   "cell_type": "code",
   "execution_count": 71,
   "id": "c728d097",
   "metadata": {},
   "outputs": [
    {
     "name": "stdout",
     "output_type": "stream",
     "text": [
      "Enter your value here: 9\n",
      "number\n",
      "End\n"
     ]
    }
   ],
   "source": [
    "a = input(\"Enter your value here: \")\n",
    "asci = ord(a)\n",
    "if asci in range(97,123):\n",
    "    print(\"small letter\")\n",
    "elif asci in range(65, 91):\n",
    "    print(\"capital letter\")\n",
    "elif asci in range(48, 58):\n",
    "    print(\"number\")\n",
    "else:\n",
    "     print(\"special character\")\n",
    "print(\"End\")"
   ]
  },
  {
   "cell_type": "code",
   "execution_count": 72,
   "id": "6628c068",
   "metadata": {},
   "outputs": [
    {
     "name": "stdout",
     "output_type": "stream",
     "text": [
      "Enter your value here: %\n",
      "special character\n",
      "End\n"
     ]
    }
   ],
   "source": [
    "a = input(\"Enter your value here: \")\n",
    "asci = ord(a)\n",
    "if asci in range(97,123):\n",
    "    print(\"small letter\")\n",
    "elif asci in range(65, 91):\n",
    "    print(\"capital letter\")\n",
    "elif asci in range(48, 58):\n",
    "    print(\"number\")\n",
    "else:\n",
    "     print(\"special character\")\n",
    "print(\"End\")"
   ]
  },
  {
   "cell_type": "code",
   "execution_count": 73,
   "id": "d74e8766",
   "metadata": {},
   "outputs": [],
   "source": [
    "# == and is operator"
   ]
  },
  {
   "cell_type": "code",
   "execution_count": 74,
   "id": "5d8fe68f",
   "metadata": {},
   "outputs": [
    {
     "name": "stdout",
     "output_type": "stream",
     "text": [
      "True\n",
      "False\n"
     ]
    }
   ],
   "source": [
    "a=1000\n",
    "b=1000\n",
    "print(a == b)\n",
    "print(a is b)"
   ]
  },
  {
   "cell_type": "code",
   "execution_count": 75,
   "id": "e45a921a",
   "metadata": {},
   "outputs": [
    {
     "name": "stdout",
     "output_type": "stream",
     "text": [
      "2067713276272\n",
      "2067713276272\n",
      "True\n",
      "True\n"
     ]
    }
   ],
   "source": [
    "a=1000\n",
    "b=a\n",
    "print(id(a))\n",
    "print(id(b))\n",
    "print(a == b)\n",
    "print(a is b)"
   ]
  },
  {
   "cell_type": "code",
   "execution_count": 77,
   "id": "8ef337dd",
   "metadata": {},
   "outputs": [
    {
     "name": "stdout",
     "output_type": "stream",
     "text": [
      "2067713277072\n",
      "2067713276720\n",
      "True\n",
      "False\n"
     ]
    }
   ],
   "source": [
    "a=1000\n",
    "b=1000\n",
    "print(id(a))\n",
    "print(id(b))\n",
    "print(a == b)\n",
    "print(a is b)"
   ]
  },
  {
   "cell_type": "code",
   "execution_count": null,
   "id": "92510702",
   "metadata": {},
   "outputs": [],
   "source": []
  }
 ],
 "metadata": {
  "kernelspec": {
   "display_name": "Python 3 (ipykernel)",
   "language": "python",
   "name": "python3"
  },
  "language_info": {
   "codemirror_mode": {
    "name": "ipython",
    "version": 3
   },
   "file_extension": ".py",
   "mimetype": "text/x-python",
   "name": "python",
   "nbconvert_exporter": "python",
   "pygments_lexer": "ipython3",
   "version": "3.9.13"
  }
 },
 "nbformat": 4,
 "nbformat_minor": 5
}
