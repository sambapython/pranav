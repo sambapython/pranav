{
 "cells": [
  {
   "cell_type": "code",
   "execution_count": 2,
   "id": "b30f1b2f",
   "metadata": {},
   "outputs": [
    {
     "name": "stdout",
     "output_type": "stream",
     "text": [
      "Vedha\n",
      "JAY\n"
     ]
    }
   ],
   "source": [
    "# case sensitive\n",
    "name=\"Vedha\"\n",
    "NAME=\"JAY\"\n",
    "print(name)\n",
    "print(NAME)"
   ]
  },
  {
   "cell_type": "code",
   "execution_count": 3,
   "id": "0b8508dd",
   "metadata": {},
   "outputs": [
    {
     "ename": "SyntaxError",
     "evalue": "invalid syntax (846752905.py, line 2)",
     "output_type": "error",
     "traceback": [
      "\u001b[1;36m  File \u001b[1;32m\"C:\\Users\\samba\\AppData\\Local\\Temp\\ipykernel_17172\\846752905.py\"\u001b[1;36m, line \u001b[1;32m2\u001b[0m\n\u001b[1;33m    person name=\"vedha\"\u001b[0m\n\u001b[1;37m           ^\u001b[0m\n\u001b[1;31mSyntaxError\u001b[0m\u001b[1;31m:\u001b[0m invalid syntax\n"
     ]
    }
   ],
   "source": [
    "# name should be a user friendly.\n",
    "person name=\"vedha\""
   ]
  },
  {
   "cell_type": "code",
   "execution_count": 4,
   "id": "ab02bcfc",
   "metadata": {},
   "outputs": [],
   "source": [
    "# name should be a user friendly.\n",
    "personname=\"vedha\""
   ]
  },
  {
   "cell_type": "code",
   "execution_count": 5,
   "id": "4c9112b3",
   "metadata": {},
   "outputs": [],
   "source": [
    "# name should be a user friendly.\n",
    "person_name=\"vedha\""
   ]
  },
  {
   "cell_type": "code",
   "execution_count": 6,
   "id": "0ae30c56",
   "metadata": {},
   "outputs": [
    {
     "ename": "SyntaxError",
     "evalue": "cannot assign to operator (3782089425.py, line 2)",
     "output_type": "error",
     "traceback": [
      "\u001b[1;36m  File \u001b[1;32m\"C:\\Users\\samba\\AppData\\Local\\Temp\\ipykernel_17172\\3782089425.py\"\u001b[1;36m, line \u001b[1;32m2\u001b[0m\n\u001b[1;33m    person-name=\"vedha\"\u001b[0m\n\u001b[1;37m    ^\u001b[0m\n\u001b[1;31mSyntaxError\u001b[0m\u001b[1;31m:\u001b[0m cannot assign to operator\n"
     ]
    }
   ],
   "source": [
    "# name should be a user friendly.\n",
    "person-name=\"vedha\""
   ]
  },
  {
   "cell_type": "code",
   "execution_count": 7,
   "id": "429cbff7",
   "metadata": {},
   "outputs": [
    {
     "ename": "SyntaxError",
     "evalue": "invalid syntax (2067115364.py, line 2)",
     "output_type": "error",
     "traceback": [
      "\u001b[1;36m  File \u001b[1;32m\"C:\\Users\\samba\\AppData\\Local\\Temp\\ipykernel_17172\\2067115364.py\"\u001b[1;36m, line \u001b[1;32m2\u001b[0m\n\u001b[1;33m    person$name=\"vedha\"\u001b[0m\n\u001b[1;37m          ^\u001b[0m\n\u001b[1;31mSyntaxError\u001b[0m\u001b[1;31m:\u001b[0m invalid syntax\n"
     ]
    }
   ],
   "source": [
    "# name should be a user friendly.\n",
    "person$name=\"vedha\""
   ]
  },
  {
   "cell_type": "code",
   "execution_count": 8,
   "id": "327a73d0",
   "metadata": {},
   "outputs": [],
   "source": [
    "# name should be a user friendly.\n",
    "person1name=\"vedha\""
   ]
  },
  {
   "cell_type": "code",
   "execution_count": 9,
   "id": "5f84436b",
   "metadata": {},
   "outputs": [
    {
     "ename": "SyntaxError",
     "evalue": "invalid syntax (3524071937.py, line 2)",
     "output_type": "error",
     "traceback": [
      "\u001b[1;36m  File \u001b[1;32m\"C:\\Users\\samba\\AppData\\Local\\Temp\\ipykernel_17172\\3524071937.py\"\u001b[1;36m, line \u001b[1;32m2\u001b[0m\n\u001b[1;33m    1person1name=\"vedha\"\u001b[0m\n\u001b[1;37m     ^\u001b[0m\n\u001b[1;31mSyntaxError\u001b[0m\u001b[1;31m:\u001b[0m invalid syntax\n"
     ]
    }
   ],
   "source": [
    "# name should be a user friendly.\n",
    "1person1name=\"vedha\""
   ]
  },
  {
   "cell_type": "code",
   "execution_count": 10,
   "id": "d6b16d68",
   "metadata": {},
   "outputs": [
    {
     "ename": "SyntaxError",
     "evalue": "invalid syntax (4256140072.py, line 1)",
     "output_type": "error",
     "traceback": [
      "\u001b[1;36m  File \u001b[1;32m\"C:\\Users\\samba\\AppData\\Local\\Temp\\ipykernel_17172\\4256140072.py\"\u001b[1;36m, line \u001b[1;32m1\u001b[0m\n\u001b[1;33m    for=\"10\"\u001b[0m\n\u001b[1;37m       ^\u001b[0m\n\u001b[1;31mSyntaxError\u001b[0m\u001b[1;31m:\u001b[0m invalid syntax\n"
     ]
    }
   ],
   "source": [
    "# should not use keyword as variable name\n",
    "for=\"10\""
   ]
  },
  {
   "cell_type": "code",
   "execution_count": 11,
   "id": "111bf444",
   "metadata": {},
   "outputs": [
    {
     "name": "stdout",
     "output_type": "stream",
     "text": [
      "JAY\n"
     ]
    }
   ],
   "source": [
    "# constants in python standards representing as hard  coded details\n",
    "print(NAME)"
   ]
  },
  {
   "cell_type": "code",
   "execution_count": 12,
   "id": "1301f0d8",
   "metadata": {},
   "outputs": [
    {
     "name": "stdout",
     "output_type": "stream",
     "text": [
      "vedha\n"
     ]
    }
   ],
   "source": [
    "print(person_name)"
   ]
  },
  {
   "cell_type": "code",
   "execution_count": 13,
   "id": "e30b26ea",
   "metadata": {},
   "outputs": [
    {
     "ename": "NameError",
     "evalue": "name 'PersonName' is not defined",
     "output_type": "error",
     "traceback": [
      "\u001b[1;31m---------------------------------------------------------------------------\u001b[0m",
      "\u001b[1;31mNameError\u001b[0m                                 Traceback (most recent call last)",
      "\u001b[1;32m~\\AppData\\Local\\Temp\\ipykernel_17172\\2962443603.py\u001b[0m in \u001b[0;36m<module>\u001b[1;34m\u001b[0m\n\u001b[1;32m----> 1\u001b[1;33m \u001b[0mprint\u001b[0m\u001b[1;33m(\u001b[0m\u001b[0mPersonName\u001b[0m\u001b[1;33m)\u001b[0m\u001b[1;33m\u001b[0m\u001b[1;33m\u001b[0m\u001b[0m\n\u001b[0m",
      "\u001b[1;31mNameError\u001b[0m: name 'PersonName' is not defined"
     ]
    }
   ],
   "source": [
    "print(PersonName)# class"
   ]
  },
  {
   "cell_type": "code",
   "execution_count": 14,
   "id": "213847e5",
   "metadata": {},
   "outputs": [
    {
     "ename": "NameError",
     "evalue": "name 'personName' is not defined",
     "output_type": "error",
     "traceback": [
      "\u001b[1;31m---------------------------------------------------------------------------\u001b[0m",
      "\u001b[1;31mNameError\u001b[0m                                 Traceback (most recent call last)",
      "\u001b[1;32m~\\AppData\\Local\\Temp\\ipykernel_17172\\76445304.py\u001b[0m in \u001b[0;36m<module>\u001b[1;34m\u001b[0m\n\u001b[1;32m----> 1\u001b[1;33m \u001b[0mprint\u001b[0m\u001b[1;33m(\u001b[0m\u001b[0mpersonName\u001b[0m\u001b[1;33m)\u001b[0m\u001b[1;31m# function\u001b[0m\u001b[1;33m\u001b[0m\u001b[1;33m\u001b[0m\u001b[0m\n\u001b[0m",
      "\u001b[1;31mNameError\u001b[0m: name 'personName' is not defined"
     ]
    }
   ],
   "source": [
    "print(personName)# function"
   ]
  },
  {
   "cell_type": "code",
   "execution_count": 15,
   "id": "3cf75f5d",
   "metadata": {},
   "outputs": [
    {
     "name": "stdout",
     "output_type": "stream",
     "text": [
      "name\n"
     ]
    }
   ],
   "source": [
    "name=\"Jay\"\n",
    "print(\"name\")"
   ]
  },
  {
   "cell_type": "code",
   "execution_count": 16,
   "id": "4666bdce",
   "metadata": {},
   "outputs": [
    {
     "name": "stdout",
     "output_type": "stream",
     "text": [
      "name\n",
      "Jay\n"
     ]
    }
   ],
   "source": [
    "name=\"Jay\"\n",
    "print(\"name\")\n",
    "print(name)"
   ]
  },
  {
   "cell_type": "code",
   "execution_count": 17,
   "id": "72d80ade",
   "metadata": {},
   "outputs": [
    {
     "name": "stdout",
     "output_type": "stream",
     "text": [
      "True\n"
     ]
    }
   ],
   "source": [
    "a=True\n",
    "print(a)"
   ]
  },
  {
   "cell_type": "code",
   "execution_count": 18,
   "id": "e95d4c97",
   "metadata": {},
   "outputs": [
    {
     "ename": "NameError",
     "evalue": "name 'true' is not defined",
     "output_type": "error",
     "traceback": [
      "\u001b[1;31m---------------------------------------------------------------------------\u001b[0m",
      "\u001b[1;31mNameError\u001b[0m                                 Traceback (most recent call last)",
      "\u001b[1;32m~\\AppData\\Local\\Temp\\ipykernel_17172\\2290759365.py\u001b[0m in \u001b[0;36m<module>\u001b[1;34m\u001b[0m\n\u001b[1;32m----> 1\u001b[1;33m \u001b[0ma\u001b[0m\u001b[1;33m=\u001b[0m\u001b[0mtrue\u001b[0m\u001b[1;33m\u001b[0m\u001b[1;33m\u001b[0m\u001b[0m\n\u001b[0m\u001b[0;32m      2\u001b[0m \u001b[0mprint\u001b[0m\u001b[1;33m(\u001b[0m\u001b[0ma\u001b[0m\u001b[1;33m)\u001b[0m\u001b[1;33m\u001b[0m\u001b[1;33m\u001b[0m\u001b[0m\n",
      "\u001b[1;31mNameError\u001b[0m: name 'true' is not defined"
     ]
    }
   ],
   "source": [
    "a=true\n",
    "print(a)"
   ]
  },
  {
   "cell_type": "code",
   "execution_count": 19,
   "id": "3f135824",
   "metadata": {},
   "outputs": [
    {
     "name": "stdout",
     "output_type": "stream",
     "text": [
      "is representing True\n"
     ]
    }
   ],
   "source": [
    "true = \"is representing True\"\n",
    "print(true)"
   ]
  },
  {
   "cell_type": "code",
   "execution_count": 20,
   "id": "13658846",
   "metadata": {},
   "outputs": [
    {
     "name": "stdout",
     "output_type": "stream",
     "text": [
      "True <class 'bool'>\n",
      "True <class 'str'>\n"
     ]
    }
   ],
   "source": [
    "a=True\n",
    "print(a, type(a))\n",
    "a=\"True\"\n",
    "print(a, type(a))\n"
   ]
  },
  {
   "cell_type": "code",
   "execution_count": null,
   "id": "78db2eaf",
   "metadata": {},
   "outputs": [],
   "source": []
  }
 ],
 "metadata": {
  "kernelspec": {
   "display_name": "Python 3 (ipykernel)",
   "language": "python",
   "name": "python3"
  },
  "language_info": {
   "codemirror_mode": {
    "name": "ipython",
    "version": 3
   },
   "file_extension": ".py",
   "mimetype": "text/x-python",
   "name": "python",
   "nbconvert_exporter": "python",
   "pygments_lexer": "ipython3",
   "version": "3.9.13"
  }
 },
 "nbformat": 4,
 "nbformat_minor": 5
}
