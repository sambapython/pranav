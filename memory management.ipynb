{
 "cells": [
  {
   "cell_type": "code",
   "execution_count": 1,
   "id": "d0ebce70",
   "metadata": {},
   "outputs": [
    {
     "name": "stdout",
     "output_type": "stream",
     "text": [
      "2324662142320 1000 <class 'int'>\n"
     ]
    }
   ],
   "source": [
    "a=1000\n",
    "print(id(a),a,type(a))"
   ]
  },
  {
   "cell_type": "code",
   "execution_count": 2,
   "id": "9a99058c",
   "metadata": {},
   "outputs": [
    {
     "name": "stdout",
     "output_type": "stream",
     "text": [
      "2324662142608 1000 <class 'int'>\n",
      "2324662143504 2000 <class 'int'>\n",
      "2324662142832 3000 <class 'int'>\n"
     ]
    }
   ],
   "source": [
    "a=1000\n",
    "print(id(a),a,type(a))\n",
    "b=2000\n",
    "print(id(b),b,type(b))\n",
    "c=3000\n",
    "print(id(c),c,type(c))"
   ]
  },
  {
   "cell_type": "code",
   "execution_count": 3,
   "id": "d4a80f51",
   "metadata": {},
   "outputs": [
    {
     "name": "stdout",
     "output_type": "stream",
     "text": [
      "2324662144880 1000 <class 'int'>\n",
      "2324662142512 1000 <class 'int'>\n",
      "2324662142384 1000 <class 'int'>\n"
     ]
    }
   ],
   "source": [
    "a=1000\n",
    "print(id(a),a,type(a))\n",
    "b=1000\n",
    "print(id(b),b,type(b))\n",
    "c=1000\n",
    "print(id(c),c,type(c))"
   ]
  },
  {
   "cell_type": "code",
   "execution_count": 4,
   "id": "75861a75",
   "metadata": {},
   "outputs": [
    {
     "name": "stdout",
     "output_type": "stream",
     "text": [
      "2324662142800 1000 <class 'int'>\n",
      "2324662142800 1000 <class 'int'>\n",
      "2324662142800 1000 <class 'int'>\n"
     ]
    }
   ],
   "source": [
    "a=1000\n",
    "print(id(a),a,type(a))\n",
    "b=a\n",
    "print(id(b),b,type(b))\n",
    "c=b\n",
    "print(id(c),c,type(c))"
   ]
  },
  {
   "cell_type": "code",
   "execution_count": 5,
   "id": "0064cb8c",
   "metadata": {},
   "outputs": [
    {
     "name": "stdout",
     "output_type": "stream",
     "text": [
      "2324578855504 10 <class 'int'>\n",
      "2324578855504 10 <class 'int'>\n",
      "2324578855504 10 <class 'int'>\n"
     ]
    }
   ],
   "source": [
    "a=10\n",
    "print(id(a),a,type(a))\n",
    "b=10\n",
    "print(id(b),b,type(b))\n",
    "c=10\n",
    "print(id(c),c,type(c))"
   ]
  },
  {
   "cell_type": "code",
   "execution_count": 6,
   "id": "18fe90a7",
   "metadata": {},
   "outputs": [
    {
     "name": "stdout",
     "output_type": "stream",
     "text": [
      "2324579051888 255 <class 'int'>\n",
      "2324579051888 255 <class 'int'>\n",
      "2324579051888 255 <class 'int'>\n"
     ]
    }
   ],
   "source": [
    "a=255\n",
    "print(id(a),a,type(a))\n",
    "b=255\n",
    "print(id(b),b,type(b))\n",
    "c=255\n",
    "print(id(c),c,type(c))"
   ]
  },
  {
   "cell_type": "code",
   "execution_count": 7,
   "id": "74a040e0",
   "metadata": {},
   "outputs": [
    {
     "name": "stdout",
     "output_type": "stream",
     "text": [
      "2324662142896 257 <class 'int'>\n",
      "2324662142928 257 <class 'int'>\n",
      "2324662143472 257 <class 'int'>\n"
     ]
    }
   ],
   "source": [
    "a=257\n",
    "print(id(a),a,type(a))\n",
    "b=257\n",
    "print(id(b),b,type(b))\n",
    "c=257\n",
    "print(id(c),c,type(c))"
   ]
  },
  {
   "cell_type": "code",
   "execution_count": 1,
   "id": "9c65898a",
   "metadata": {},
   "outputs": [],
   "source": [
    "a=1000\n",
    "b=1000\n",
    "c=1000"
   ]
  },
  {
   "cell_type": "code",
   "execution_count": null,
   "id": "8bf8b744",
   "metadata": {},
   "outputs": [],
   "source": [
    "a=1000\n",
    "b=a\n",
    "c=a"
   ]
  },
  {
   "cell_type": "code",
   "execution_count": 2,
   "id": "b6eb6b54",
   "metadata": {},
   "outputs": [
    {
     "name": "stdout",
     "output_type": "stream",
     "text": [
      "1000 <class 'int'>\n",
      "100.34 <class 'float'>\n",
      "True <class 'bool'>\n",
      "None <class 'NoneType'>\n",
      "Hyderabad <class 'str'>\n",
      "[123, 45.67, True, None, 'Banglore'] <class 'list'>\n",
      "(123, 45.67, True, None, 'Banglore') <class 'tuple'>\n",
      "{'January', 'february', 'march'} <class 'set'>\n",
      "{'name': 'Vedha', 'age': 4} <class 'dict'>\n",
      "(1+2j) <class 'complex'>\n"
     ]
    }
   ],
   "source": [
    "a=1000\n",
    "print(a, type(a))\n",
    "a=100.34\n",
    "print(a, type(a))\n",
    "a=True\n",
    "print(a, type(a))\n",
    "a=None\n",
    "print(a, type(a))\n",
    "a=\"Hyderabad\"\n",
    "print(a, type(a))\n",
    "a=[123,45.67,True,None,\"Banglore\"]\n",
    "print(a, type(a))\n",
    "a=(123,45.67,True,None,\"Banglore\")\n",
    "print(a, type(a))\n",
    "a={\"January\", \"february\", \"march\"}\n",
    "print(a, type(a))\n",
    "a={\"name\":\"Vedha\", \"age\":4}\n",
    "print(a, type(a))\n",
    "a=1+2j\n",
    "print(a, type(a))"
   ]
  },
  {
   "cell_type": "code",
   "execution_count": null,
   "id": "7fa2a239",
   "metadata": {},
   "outputs": [],
   "source": [
    "s=\"Hyderabad\"\n",
    "s1=s\n",
    "s2=\"Banglore\"\n",
    "s3=s2"
   ]
  },
  {
   "cell_type": "code",
   "execution_count": null,
   "id": "9348caba",
   "metadata": {},
   "outputs": [],
   "source": [
    "#operators\n",
    "# arithmatic(+, -, *, /, //, **)\n",
    "# bolean, comparative operators(>,<,>=,<=,==,!=, is,in,not)\n",
    "# composit operators\n",
    "# bitwise operators\n"
   ]
  },
  {
   "cell_type": "code",
   "execution_count": 3,
   "id": "ac4fa898",
   "metadata": {},
   "outputs": [
    {
     "name": "stdout",
     "output_type": "stream",
     "text": [
      "3000\n"
     ]
    }
   ],
   "source": [
    "a=1000\n",
    "b=2000\n",
    "print(a+b)"
   ]
  },
  {
   "cell_type": "code",
   "execution_count": 4,
   "id": "75d79a2b",
   "metadata": {},
   "outputs": [
    {
     "name": "stdout",
     "output_type": "stream",
     "text": [
      "hydbanglore\n"
     ]
    }
   ],
   "source": [
    "a=\"hyd\"\n",
    "b=\"banglore\"\n",
    "print(a+b)"
   ]
  },
  {
   "cell_type": "code",
   "execution_count": 5,
   "id": "6c237870",
   "metadata": {},
   "outputs": [
    {
     "name": "stdout",
     "output_type": "stream",
     "text": [
      "[1, 2, 3, 4, 5, 6]\n"
     ]
    }
   ],
   "source": [
    "l=[1,2,3]\n",
    "k=[4,5,6]\n",
    "print(l+k)"
   ]
  },
  {
   "cell_type": "code",
   "execution_count": 6,
   "id": "c071abf0",
   "metadata": {},
   "outputs": [
    {
     "ename": "TypeError",
     "evalue": "unsupported operand type(s) for +: 'dict' and 'dict'",
     "output_type": "error",
     "traceback": [
      "\u001b[1;31m---------------------------------------------------------------------------\u001b[0m",
      "\u001b[1;31mTypeError\u001b[0m                                 Traceback (most recent call last)",
      "\u001b[1;32m~\\AppData\\Local\\Temp\\ipykernel_16828\\1096354055.py\u001b[0m in \u001b[0;36m<module>\u001b[1;34m\u001b[0m\n\u001b[0;32m      1\u001b[0m \u001b[0mperson\u001b[0m\u001b[1;33m=\u001b[0m\u001b[1;33m{\u001b[0m\u001b[1;34m\"name\"\u001b[0m\u001b[1;33m:\u001b[0m\u001b[1;34m\"vedha\"\u001b[0m\u001b[1;33m,\u001b[0m\u001b[1;34m\"age\"\u001b[0m\u001b[1;33m:\u001b[0m\u001b[1;36m4\u001b[0m\u001b[1;33m}\u001b[0m\u001b[1;33m\u001b[0m\u001b[1;33m\u001b[0m\u001b[0m\n\u001b[0;32m      2\u001b[0m \u001b[0maddress\u001b[0m\u001b[1;33m=\u001b[0m\u001b[1;33m{\u001b[0m\u001b[1;34m\"city\"\u001b[0m\u001b[1;33m:\u001b[0m\u001b[1;34m\"hyd\"\u001b[0m\u001b[1;33m,\u001b[0m\u001b[1;34m\"pin\"\u001b[0m\u001b[1;33m:\u001b[0m\u001b[1;36m500055\u001b[0m\u001b[1;33m}\u001b[0m\u001b[1;33m\u001b[0m\u001b[1;33m\u001b[0m\u001b[0m\n\u001b[1;32m----> 3\u001b[1;33m \u001b[0mprint\u001b[0m\u001b[1;33m(\u001b[0m\u001b[0mperson\u001b[0m\u001b[1;33m+\u001b[0m\u001b[0maddress\u001b[0m\u001b[1;33m)\u001b[0m\u001b[1;33m\u001b[0m\u001b[1;33m\u001b[0m\u001b[0m\n\u001b[0m",
      "\u001b[1;31mTypeError\u001b[0m: unsupported operand type(s) for +: 'dict' and 'dict'"
     ]
    }
   ],
   "source": [
    "person={\"name\":\"vedha\",\"age\":4}\n",
    "address={\"city\":\"hyd\",\"pin\":500055}\n",
    "print(person+address)"
   ]
  },
  {
   "cell_type": "code",
   "execution_count": 7,
   "id": "3b54ad29",
   "metadata": {},
   "outputs": [
    {
     "ename": "TypeError",
     "evalue": "unsupported operand type(s) for +: 'int' and 'str'",
     "output_type": "error",
     "traceback": [
      "\u001b[1;31m---------------------------------------------------------------------------\u001b[0m",
      "\u001b[1;31mTypeError\u001b[0m                                 Traceback (most recent call last)",
      "\u001b[1;32m~\\AppData\\Local\\Temp\\ipykernel_16828\\989317968.py\u001b[0m in \u001b[0;36m<module>\u001b[1;34m\u001b[0m\n\u001b[0;32m      1\u001b[0m \u001b[0ma\u001b[0m\u001b[1;33m=\u001b[0m\u001b[1;36m200\u001b[0m\u001b[1;33m\u001b[0m\u001b[1;33m\u001b[0m\u001b[0m\n\u001b[0;32m      2\u001b[0m \u001b[0mb\u001b[0m\u001b[1;33m=\u001b[0m\u001b[1;34m\"hyd\"\u001b[0m\u001b[1;33m\u001b[0m\u001b[1;33m\u001b[0m\u001b[0m\n\u001b[1;32m----> 3\u001b[1;33m \u001b[0mprint\u001b[0m\u001b[1;33m(\u001b[0m\u001b[0ma\u001b[0m\u001b[1;33m+\u001b[0m\u001b[0mb\u001b[0m\u001b[1;33m)\u001b[0m\u001b[1;33m\u001b[0m\u001b[1;33m\u001b[0m\u001b[0m\n\u001b[0m",
      "\u001b[1;31mTypeError\u001b[0m: unsupported operand type(s) for +: 'int' and 'str'"
     ]
    }
   ],
   "source": [
    "a=200\n",
    "b=\"hyd\"\n",
    "print(a+b)"
   ]
  },
  {
   "cell_type": "code",
   "execution_count": 8,
   "id": "be91deb3",
   "metadata": {},
   "outputs": [
    {
     "ename": "TypeError",
     "evalue": "unsupported operand type(s) for -: 'int' and 'str'",
     "output_type": "error",
     "traceback": [
      "\u001b[1;31m---------------------------------------------------------------------------\u001b[0m",
      "\u001b[1;31mTypeError\u001b[0m                                 Traceback (most recent call last)",
      "\u001b[1;32m~\\AppData\\Local\\Temp\\ipykernel_16828\\3965169823.py\u001b[0m in \u001b[0;36m<module>\u001b[1;34m\u001b[0m\n\u001b[0;32m      1\u001b[0m \u001b[0ma\u001b[0m\u001b[1;33m=\u001b[0m\u001b[1;36m200\u001b[0m\u001b[1;33m\u001b[0m\u001b[1;33m\u001b[0m\u001b[0m\n\u001b[0;32m      2\u001b[0m \u001b[0mb\u001b[0m\u001b[1;33m=\u001b[0m\u001b[1;34m\"hyd\"\u001b[0m\u001b[1;33m\u001b[0m\u001b[1;33m\u001b[0m\u001b[0m\n\u001b[1;32m----> 3\u001b[1;33m \u001b[0mprint\u001b[0m\u001b[1;33m(\u001b[0m\u001b[0ma\u001b[0m\u001b[1;33m-\u001b[0m\u001b[0mb\u001b[0m\u001b[1;33m)\u001b[0m\u001b[1;33m\u001b[0m\u001b[1;33m\u001b[0m\u001b[0m\n\u001b[0m",
      "\u001b[1;31mTypeError\u001b[0m: unsupported operand type(s) for -: 'int' and 'str'"
     ]
    }
   ],
   "source": [
    "a=200\n",
    "b=\"hyd\"\n",
    "print(a-b)"
   ]
  },
  {
   "cell_type": "code",
   "execution_count": 9,
   "id": "4fdc1b73",
   "metadata": {},
   "outputs": [
    {
     "name": "stdout",
     "output_type": "stream",
     "text": [
      "hydhydhydhydhydhydhydhydhydhydhydhydhydhydhydhydhydhydhydhydhydhydhydhydhydhydhydhydhydhydhydhydhydhydhydhydhydhydhydhydhydhydhydhydhydhydhydhydhydhydhydhydhydhydhydhydhydhydhydhydhydhydhydhydhydhydhydhydhydhydhydhydhydhydhydhydhydhydhydhydhydhydhydhydhydhydhydhydhydhydhydhydhydhydhydhydhydhydhydhydhydhydhydhydhydhydhydhydhydhydhydhydhydhydhydhydhydhydhydhydhydhydhydhydhydhydhydhydhydhydhydhydhydhydhydhydhydhydhydhydhydhydhydhydhydhydhydhydhydhydhydhydhydhydhydhydhydhydhydhydhydhydhydhydhydhydhydhydhydhydhydhydhydhydhydhydhydhydhydhydhydhydhydhydhydhydhydhydhydhydhydhydhydhydhydhydhydhydhydhyd\n"
     ]
    }
   ],
   "source": [
    "a=200\n",
    "b=\"hyd\"\n",
    "print(a*b)"
   ]
  },
  {
   "cell_type": "code",
   "execution_count": 10,
   "id": "68f1c6a4",
   "metadata": {},
   "outputs": [
    {
     "name": "stdout",
     "output_type": "stream",
     "text": [
      "10000\n"
     ]
    }
   ],
   "source": [
    "# **\n",
    "print(10**4)"
   ]
  },
  {
   "cell_type": "code",
   "execution_count": 11,
   "id": "d25bf994",
   "metadata": {},
   "outputs": [
    {
     "name": "stdout",
     "output_type": "stream",
     "text": [
      "16\n"
     ]
    }
   ],
   "source": [
    "# **\n",
    "print(2**4)"
   ]
  },
  {
   "cell_type": "code",
   "execution_count": 12,
   "id": "911d9e0c",
   "metadata": {},
   "outputs": [
    {
     "ename": "TypeError",
     "evalue": "unsupported operand type(s) for ** or pow(): 'str' and 'int'",
     "output_type": "error",
     "traceback": [
      "\u001b[1;31m---------------------------------------------------------------------------\u001b[0m",
      "\u001b[1;31mTypeError\u001b[0m                                 Traceback (most recent call last)",
      "\u001b[1;32m~\\AppData\\Local\\Temp\\ipykernel_16828\\3371691232.py\u001b[0m in \u001b[0;36m<module>\u001b[1;34m\u001b[0m\n\u001b[0;32m      1\u001b[0m \u001b[1;31m# **\u001b[0m\u001b[1;33m\u001b[0m\u001b[1;33m\u001b[0m\u001b[0m\n\u001b[1;32m----> 2\u001b[1;33m \u001b[0mprint\u001b[0m\u001b[1;33m(\u001b[0m\u001b[1;34m\"python\"\u001b[0m\u001b[1;33m**\u001b[0m\u001b[1;36m4\u001b[0m\u001b[1;33m)\u001b[0m\u001b[1;33m\u001b[0m\u001b[1;33m\u001b[0m\u001b[0m\n\u001b[0m",
      "\u001b[1;31mTypeError\u001b[0m: unsupported operand type(s) for ** or pow(): 'str' and 'int'"
     ]
    }
   ],
   "source": [
    "# **\n",
    "print(\"python\"**4)"
   ]
  },
  {
   "cell_type": "code",
   "execution_count": 13,
   "id": "6057cdfb",
   "metadata": {},
   "outputs": [
    {
     "name": "stdout",
     "output_type": "stream",
     "text": [
      "45.69760000000001\n"
     ]
    }
   ],
   "source": [
    "# **\n",
    "print(2.6**4)"
   ]
  },
  {
   "cell_type": "code",
   "execution_count": 14,
   "id": "40f8a545",
   "metadata": {},
   "outputs": [
    {
     "name": "stdout",
     "output_type": "stream",
     "text": [
      "3.3333333333333335\n"
     ]
    }
   ],
   "source": [
    "print(10/3)"
   ]
  },
  {
   "cell_type": "code",
   "execution_count": 15,
   "id": "4f1e3a20",
   "metadata": {},
   "outputs": [
    {
     "name": "stdout",
     "output_type": "stream",
     "text": [
      "3\n"
     ]
    }
   ],
   "source": [
    "print(10//3)"
   ]
  },
  {
   "cell_type": "code",
   "execution_count": 16,
   "id": "af1e50bd",
   "metadata": {},
   "outputs": [
    {
     "name": "stdout",
     "output_type": "stream",
     "text": [
      "False\n"
     ]
    }
   ],
   "source": [
    "print(10>20)"
   ]
  },
  {
   "cell_type": "code",
   "execution_count": 17,
   "id": "0664386f",
   "metadata": {},
   "outputs": [
    {
     "name": "stdout",
     "output_type": "stream",
     "text": [
      "True\n"
     ]
    }
   ],
   "source": [
    "print(\"98\">\"1234\")"
   ]
  },
  {
   "cell_type": "code",
   "execution_count": null,
   "id": "e0c14e23",
   "metadata": {},
   "outputs": [],
   "source": [
    "# apple, pot,cat,ant,bat\n",
    "# ant,apple,bat,cat,pot\n",
    "# '98','1234'\n",
    "# '1234', '98'# lexical comparison."
   ]
  },
  {
   "cell_type": "code",
   "execution_count": 18,
   "id": "941af499",
   "metadata": {},
   "outputs": [
    {
     "ename": "TypeError",
     "evalue": "unsupported operand type(s) for +: 'int' and 'tuple'",
     "output_type": "error",
     "traceback": [
      "\u001b[1;31m---------------------------------------------------------------------------\u001b[0m",
      "\u001b[1;31mTypeError\u001b[0m                                 Traceback (most recent call last)",
      "\u001b[1;32m~\\AppData\\Local\\Temp\\ipykernel_16828\\2778145279.py\u001b[0m in \u001b[0;36m<module>\u001b[1;34m\u001b[0m\n\u001b[1;32m----> 1\u001b[1;33m \u001b[1;36m10\u001b[0m\u001b[1;33m+\u001b[0m\u001b[1;33m(\u001b[0m\u001b[1;36m1\u001b[0m\u001b[1;33m,\u001b[0m\u001b[1;36m2\u001b[0m\u001b[1;33m,\u001b[0m\u001b[1;36m3\u001b[0m\u001b[1;33m,\u001b[0m\u001b[1;36m4\u001b[0m\u001b[1;33m)\u001b[0m\u001b[1;33m\u001b[0m\u001b[1;33m\u001b[0m\u001b[0m\n\u001b[0m",
      "\u001b[1;31mTypeError\u001b[0m: unsupported operand type(s) for +: 'int' and 'tuple'"
     ]
    }
   ],
   "source": [
    "10+(1,2,3,4)"
   ]
  },
  {
   "cell_type": "code",
   "execution_count": 19,
   "id": "c6dd1195",
   "metadata": {},
   "outputs": [
    {
     "ename": "TypeError",
     "evalue": "unsupported operand type(s) for +: 'int' and 'list'",
     "output_type": "error",
     "traceback": [
      "\u001b[1;31m---------------------------------------------------------------------------\u001b[0m",
      "\u001b[1;31mTypeError\u001b[0m                                 Traceback (most recent call last)",
      "\u001b[1;32m~\\AppData\\Local\\Temp\\ipykernel_16828\\1151701033.py\u001b[0m in \u001b[0;36m<module>\u001b[1;34m\u001b[0m\n\u001b[1;32m----> 1\u001b[1;33m \u001b[1;36m10\u001b[0m\u001b[1;33m+\u001b[0m\u001b[1;33m[\u001b[0m\u001b[1;36m1\u001b[0m\u001b[1;33m,\u001b[0m\u001b[1;36m2\u001b[0m\u001b[1;33m,\u001b[0m\u001b[1;36m3\u001b[0m\u001b[1;33m,\u001b[0m\u001b[1;36m4\u001b[0m\u001b[1;33m]\u001b[0m\u001b[1;33m\u001b[0m\u001b[1;33m\u001b[0m\u001b[0m\n\u001b[0m",
      "\u001b[1;31mTypeError\u001b[0m: unsupported operand type(s) for +: 'int' and 'list'"
     ]
    }
   ],
   "source": [
    "10+[1,2,3,4]"
   ]
  },
  {
   "cell_type": "code",
   "execution_count": 20,
   "id": "16deec71",
   "metadata": {},
   "outputs": [
    {
     "ename": "TypeError",
     "evalue": "unsupported operand type(s) for +: 'int' and 'dict'",
     "output_type": "error",
     "traceback": [
      "\u001b[1;31m---------------------------------------------------------------------------\u001b[0m",
      "\u001b[1;31mTypeError\u001b[0m                                 Traceback (most recent call last)",
      "\u001b[1;32m~\\AppData\\Local\\Temp\\ipykernel_16828\\2886214580.py\u001b[0m in \u001b[0;36m<module>\u001b[1;34m\u001b[0m\n\u001b[1;32m----> 1\u001b[1;33m \u001b[1;36m10\u001b[0m\u001b[1;33m+\u001b[0m\u001b[1;33m{\u001b[0m\u001b[1;34m\"name\"\u001b[0m\u001b[1;33m:\u001b[0m\u001b[1;34m\"vedha\"\u001b[0m\u001b[1;33m}\u001b[0m\u001b[1;33m\u001b[0m\u001b[1;33m\u001b[0m\u001b[0m\n\u001b[0m",
      "\u001b[1;31mTypeError\u001b[0m: unsupported operand type(s) for +: 'int' and 'dict'"
     ]
    }
   ],
   "source": [
    "10+{\"name\":\"vedha\"}"
   ]
  },
  {
   "cell_type": "code",
   "execution_count": null,
   "id": "b2a6845c",
   "metadata": {},
   "outputs": [],
   "source": [
    "a=3000\n",
    "b=\"hyd\"\n",
    "l=[1000,2000,a,b,\"chennai\"]\n",
    "k=l\n"
   ]
  }
 ],
 "metadata": {
  "kernelspec": {
   "display_name": "Python 3 (ipykernel)",
   "language": "python",
   "name": "python3"
  },
  "language_info": {
   "codemirror_mode": {
    "name": "ipython",
    "version": 3
   },
   "file_extension": ".py",
   "mimetype": "text/x-python",
   "name": "python",
   "nbconvert_exporter": "python",
   "pygments_lexer": "ipython3",
   "version": "3.9.13"
  }
 },
 "nbformat": 4,
 "nbformat_minor": 5
}
