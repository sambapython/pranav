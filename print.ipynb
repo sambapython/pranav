{
 "cells": [
  {
   "cell_type": "code",
   "execution_count": 1,
   "id": "90ea8994",
   "metadata": {},
   "outputs": [
    {
     "name": "stdout",
     "output_type": "stream",
     "text": [
      "hello hi hyd bang\n"
     ]
    }
   ],
   "source": [
    "print(\"hello\",\"hi\",\"hyd\",\"bang\")"
   ]
  },
  {
   "cell_type": "code",
   "execution_count": 2,
   "id": "0b32dcb7",
   "metadata": {},
   "outputs": [
    {
     "name": "stdout",
     "output_type": "stream",
     "text": [
      "hello;hi;hyd;bang\n"
     ]
    }
   ],
   "source": [
    "print(\"hello\",\"hi\",\"hyd\",\"bang\",sep=\";\")"
   ]
  },
  {
   "cell_type": "code",
   "execution_count": 3,
   "id": "f7a6d491",
   "metadata": {},
   "outputs": [
    {
     "name": "stdout",
     "output_type": "stream",
     "text": [
      "hello;hi;hyd;bang\n",
      "hello,hi,hyd,bang\n"
     ]
    }
   ],
   "source": [
    "print(\"hello\",\"hi\",\"hyd\",\"bang\",sep=\";\")\n",
    "print(\"hello\",\"hi\",\"hyd\",\"bang\",sep=\",\")"
   ]
  },
  {
   "cell_type": "code",
   "execution_count": 4,
   "id": "2a717adb",
   "metadata": {},
   "outputs": [
    {
     "name": "stdout",
     "output_type": "stream",
     "text": [
      "hello;hi;hyd;bang+hello,hi,hyd,bang\n"
     ]
    }
   ],
   "source": [
    "print(\"hello\",\"hi\",\"hyd\",\"bang\",sep=\";\",end=\"+\")\n",
    "print(\"hello\",\"hi\",\"hyd\",\"bang\",sep=\",\")"
   ]
  },
  {
   "cell_type": "code",
   "execution_count": 5,
   "id": "e622d426",
   "metadata": {},
   "outputs": [
    {
     "name": "stdout",
     "output_type": "stream",
     "text": [
      "Enter the name here: jay\n",
      "Enter the age here: 3\n",
      "Name:  jay ,  Age:  3\n"
     ]
    }
   ],
   "source": [
    "#name and age from the user and print is below\n",
    "#name: jay, age:3. o/p: we got the jay details, he is 3 years old.\n",
    "name = input(\"Enter the name here: \")\n",
    "age = input(\"Enter the age here: \")\n",
    "print(\"Name: \",name, \", \", \"Age: \", age)"
   ]
  },
  {
   "cell_type": "code",
   "execution_count": 6,
   "id": "cc0a424a",
   "metadata": {},
   "outputs": [
    {
     "name": "stdout",
     "output_type": "stream",
     "text": [
      "Enter the name here: jay\n",
      "Enter the age here: 3\n",
      "We got jay details, he is 3 years old.\n"
     ]
    }
   ],
   "source": [
    "name = input(\"Enter the name here: \")\n",
    "age = input(\"Enter the age here: \")\n",
    "print(\"We got\",name, \"details, he is\", age, \"years old.\")\n"
   ]
  },
  {
   "cell_type": "code",
   "execution_count": 7,
   "id": "1c03aa88",
   "metadata": {},
   "outputs": [
    {
     "name": "stdout",
     "output_type": "stream",
     "text": [
      "Enter the name here: jay\n",
      "Enter the age here: 3.4563445\n",
      "Enter the height here: 3.7834\n",
      "Enter the height here: 15.6785\n",
      "The person details we got name:jay, age:3.4563445, height:4, weight:16\n"
     ]
    }
   ],
   "source": [
    "#o/p The person details we got name:jay, age:3.26389 years, height:3.24 feets, weight:15.257 kgs\n",
    "name = input(\"Enter the name here: \")\n",
    "age = float(input(\"Enter the age here: \"))\n",
    "height = round(float(input(\"Enter the height here: \")))\n",
    "weight = round(float(input(\"Enter the height here: \")))\n",
    "\n",
    "print(\"The person details we got name:\",name,\", age:\",age,\", height:\",height, \", weight:\",weight, sep=\"\")\n"
   ]
  },
  {
   "cell_type": "code",
   "execution_count": 8,
   "id": "48bf5c57",
   "metadata": {},
   "outputs": [
    {
     "name": "stdout",
     "output_type": "stream",
     "text": [
      "name:{name}, age:{age}\n"
     ]
    }
   ],
   "source": [
    "# template string\n",
    "name=\"jay\"\n",
    "age=3\n",
    "print(\"name:{name}, age:{age}\")\n"
   ]
  },
  {
   "cell_type": "code",
   "execution_count": 9,
   "id": "5332fec3",
   "metadata": {},
   "outputs": [
    {
     "name": "stdout",
     "output_type": "stream",
     "text": [
      "name:jay, age:3\n"
     ]
    }
   ],
   "source": [
    "# template string\n",
    "name=\"jay\"\n",
    "age=3\n",
    "print(f\"name:{name}, age:{age}\")\n"
   ]
  },
  {
   "cell_type": "code",
   "execution_count": 10,
   "id": "83d1f5fe",
   "metadata": {},
   "outputs": [
    {
     "name": "stdout",
     "output_type": "stream",
     "text": [
      "name:jay, age:3.235789\n"
     ]
    }
   ],
   "source": [
    "# template string\n",
    "name=\"jay\"\n",
    "age=3.235789\n",
    "print(f\"name:{name}, age:{age}\")\n"
   ]
  },
  {
   "cell_type": "code",
   "execution_count": 11,
   "id": "7168898a",
   "metadata": {},
   "outputs": [
    {
     "name": "stdout",
     "output_type": "stream",
     "text": [
      "name:jay, age:3.235789\n"
     ]
    }
   ],
   "source": [
    "# template string\n",
    "name=\"jay\"\n",
    "age=3.235789\n",
    "print(f\"name:{name}, age:{age:f}\")\n"
   ]
  },
  {
   "cell_type": "code",
   "execution_count": 12,
   "id": "ea9604ca",
   "metadata": {},
   "outputs": [
    {
     "name": "stdout",
     "output_type": "stream",
     "text": [
      "name:jay, age:3.24\n"
     ]
    }
   ],
   "source": [
    "# template string\n",
    "name=\"jay\"\n",
    "age=3.235789\n",
    "print(f\"name:{name}, age:{age:.2f}\")\n"
   ]
  },
  {
   "cell_type": "code",
   "execution_count": 13,
   "id": "c201024a",
   "metadata": {},
   "outputs": [
    {
     "name": "stdout",
     "output_type": "stream",
     "text": [
      "name:jay, age:3.235789\n"
     ]
    }
   ],
   "source": [
    "# template string\n",
    "name=\"jay\"\n",
    "age=3.23578923456789\n",
    "print(f\"name:{name}, age:{age:f}\")\n"
   ]
  },
  {
   "cell_type": "code",
   "execution_count": 14,
   "id": "eb4969fa",
   "metadata": {},
   "outputs": [
    {
     "name": "stdout",
     "output_type": "stream",
     "text": [
      "name:jay, age:3.24\n"
     ]
    }
   ],
   "source": [
    "# template string\n",
    "name=\"jay\"\n",
    "age=3.23578923456789\n",
    "print(f\"name:{name}, age:{age:.2f}\")\n"
   ]
  },
  {
   "cell_type": "code",
   "execution_count": 16,
   "id": "077d8f5b",
   "metadata": {},
   "outputs": [
    {
     "ename": "ValueError",
     "evalue": "Unknown format code 'd' for object of type 'float'",
     "output_type": "error",
     "traceback": [
      "\u001b[1;31m---------------------------------------------------------------------------\u001b[0m",
      "\u001b[1;31mValueError\u001b[0m                                Traceback (most recent call last)",
      "\u001b[1;32m~\\AppData\\Local\\Temp\\ipykernel_9768\\3816676266.py\u001b[0m in \u001b[0;36m<module>\u001b[1;34m\u001b[0m\n\u001b[0;32m      2\u001b[0m \u001b[0mname\u001b[0m\u001b[1;33m=\u001b[0m\u001b[1;34m\"jay\"\u001b[0m\u001b[1;33m\u001b[0m\u001b[1;33m\u001b[0m\u001b[0m\n\u001b[0;32m      3\u001b[0m \u001b[0mage\u001b[0m\u001b[1;33m=\u001b[0m\u001b[1;36m3.23578923456789\u001b[0m\u001b[1;33m\u001b[0m\u001b[1;33m\u001b[0m\u001b[0m\n\u001b[1;32m----> 4\u001b[1;33m \u001b[0mprint\u001b[0m\u001b[1;33m(\u001b[0m\u001b[1;34mf\"name:{name}, age:{age:d}\"\u001b[0m\u001b[1;33m)\u001b[0m\u001b[1;33m\u001b[0m\u001b[1;33m\u001b[0m\u001b[0m\n\u001b[0m",
      "\u001b[1;31mValueError\u001b[0m: Unknown format code 'd' for object of type 'float'"
     ]
    }
   ],
   "source": [
    "# template string\n",
    "name=\"jay\"\n",
    "age=3.23578923456789\n",
    "print(f\"name:{name}, age:{age:d}\")\n"
   ]
  },
  {
   "cell_type": "code",
   "execution_count": 17,
   "id": "27891c4a",
   "metadata": {},
   "outputs": [
    {
     "name": "stdout",
     "output_type": "stream",
     "text": [
      "name:jay, age:3\n"
     ]
    }
   ],
   "source": [
    "# template string\n",
    "name=\"jay\"\n",
    "age=3.23578923456789\n",
    "print(f\"name:{name}, age:{int(age)}\")\n"
   ]
  },
  {
   "cell_type": "code",
   "execution_count": 18,
   "id": "54d456d5",
   "metadata": {},
   "outputs": [],
   "source": [
    "# format specifiers: %f, %d, %s, %r, %h"
   ]
  },
  {
   "cell_type": "code",
   "execution_count": 19,
   "id": "e91572e9",
   "metadata": {},
   "outputs": [
    {
     "name": "stdout",
     "output_type": "stream",
     "text": [
      "sfsdfsd\n",
      "sfdsdfsd\tsdfsfsdfsdf\n",
      "sdfsdfsd\tsfsdfs\n",
      "sdfsdf\n"
     ]
    }
   ],
   "source": [
    "print(\"sfsdfsd\\nsfdsdfsd\\tsdfsfsdfsdf\\nsdfsdfsd\\tsfsdfs\\nsdfsdf\")"
   ]
  },
  {
   "cell_type": "code",
   "execution_count": 20,
   "id": "743bf917",
   "metadata": {},
   "outputs": [
    {
     "name": "stdout",
     "output_type": "stream",
     "text": [
      "6\n"
     ]
    }
   ],
   "source": [
    "s=\"python\"\n",
    "print(len(s))"
   ]
  },
  {
   "cell_type": "code",
   "execution_count": 21,
   "id": "ddebf7e7",
   "metadata": {},
   "outputs": [
    {
     "name": "stdout",
     "output_type": "stream",
     "text": [
      "1\n"
     ]
    }
   ],
   "source": [
    "s=\"\\n\"\n",
    "print(len(s))"
   ]
  },
  {
   "cell_type": "code",
   "execution_count": 22,
   "id": "52e49aa8",
   "metadata": {},
   "outputs": [
    {
     "name": "stdout",
     "output_type": "stream",
     "text": [
      "1\n"
     ]
    }
   ],
   "source": [
    "s=\"\\t\"\n",
    "print(len(s))"
   ]
  },
  {
   "cell_type": "code",
   "execution_count": 23,
   "id": "6a464d94",
   "metadata": {},
   "outputs": [
    {
     "name": "stdout",
     "output_type": "stream",
     "text": [
      "sfsdfsd\\nsfdsdfsd\\tsdfsfsdfsdf\\nsdfsdfsd\\tsfsdfs\\nsdfsdf\n"
     ]
    }
   ],
   "source": [
    "print(\"sfsdfsd\\\\nsfdsdfsd\\\\tsdfsfsdfsdf\\\\nsdfsdfsd\\\\tsfsdfs\\\\nsdfsdf\")#\\ escape character"
   ]
  },
  {
   "cell_type": "code",
   "execution_count": 24,
   "id": "fc68636f",
   "metadata": {},
   "outputs": [
    {
     "name": "stdout",
     "output_type": "stream",
     "text": [
      "sfsdfsd\\nsfdsdfsd\\tsdfsfsdfsdf\\nsdfsdfsd\\tsfsdfs\\nsdfsdf\n"
     ]
    }
   ],
   "source": [
    "print(r\"sfsdfsd\\nsfdsdfsd\\tsdfsfsdfsdf\\nsdfsdfsd\\tsfsdfs\\nsdfsdf\")"
   ]
  },
  {
   "cell_type": "code",
   "execution_count": 25,
   "id": "926b4538",
   "metadata": {},
   "outputs": [
    {
     "name": "stdout",
     "output_type": "stream",
     "text": [
      "2\n"
     ]
    }
   ],
   "source": [
    "s=r\"\\n\"\n",
    "print(len(s))"
   ]
  },
  {
   "cell_type": "code",
   "execution_count": 26,
   "id": "da81a99c",
   "metadata": {},
   "outputs": [
    {
     "name": "stdout",
     "output_type": "stream",
     "text": [
      "Enter the name here: jay\n",
      "Enter the age here: 3.2534564365\n",
      "Enter the height here: 3.4567\n",
      "Enter the height here: 15.677\n",
      "The person details we got name:jay, age:3.2534564365, height:3.4567, weight:15.677\n"
     ]
    }
   ],
   "source": [
    "#o/p The person details we got name:jay, age:3.26389 years, height:3.24 feets, weight:15.257 kgs\n",
    "name = input(\"Enter the name here: \")\n",
    "age = float(input(\"Enter the age here: \"))\n",
    "height = float(input(\"Enter the height here: \"))\n",
    "weight = float(input(\"Enter the height here: \"))\n",
    "# template strings\n",
    "print(f\"The person details we got name:{name}, age:{age}, height:{height}, weight:{weight}\")\n"
   ]
  },
  {
   "cell_type": "code",
   "execution_count": null,
   "id": "3b415d13",
   "metadata": {},
   "outputs": [],
   "source": [
    "#o/p The person details we got name:jay, age:3.26389 years, height:3.24 feets, weight:15.257 kgs\n",
    "name = input(\"Enter the name here: \")\n",
    "age = float(input(\"Enter the age here: \"))\n",
    "height = float(input(\"Enter the height here: \"))\n",
    "weight = float(input(\"Enter the wight here: \"))\n",
    "# template strings\n",
    "print(f\"The person details we got name:{name}, age:{age}, height:{height:.2f}, weight:{weight:.3f}\")\n",
    "\n",
    "#format specifiers\n",
    "print(\"The person details we got name)"
   ]
  },
  {
   "cell_type": "code",
   "execution_count": 27,
   "id": "2472fa97",
   "metadata": {},
   "outputs": [
    {
     "name": "stdout",
     "output_type": "stream",
     "text": [
      "The person details name:%s, age:%f ('jay', 3)\n"
     ]
    }
   ],
   "source": [
    "name=\"jay\"\n",
    "age=3\n",
    "print(\"The person details name:%s, age:%f\",(name, age))"
   ]
  },
  {
   "cell_type": "code",
   "execution_count": 28,
   "id": "dd36a59e",
   "metadata": {},
   "outputs": [
    {
     "name": "stdout",
     "output_type": "stream",
     "text": [
      "The person details name:jay, age:3.000000\n"
     ]
    }
   ],
   "source": [
    "name=\"jay\"\n",
    "age=3\n",
    "print(\"The person details name:%s, age:%f\"%(name, age))"
   ]
  },
  {
   "cell_type": "code",
   "execution_count": 29,
   "id": "a75b61af",
   "metadata": {},
   "outputs": [
    {
     "name": "stdout",
     "output_type": "stream",
     "text": [
      "The person details name:jay, age:3.534665\n"
     ]
    }
   ],
   "source": [
    "name=\"jay\"\n",
    "age=3.53466546547\n",
    "print(\"The person details name:%s, age:%f\"%(name, age))"
   ]
  },
  {
   "cell_type": "code",
   "execution_count": 30,
   "id": "4d5ae912",
   "metadata": {},
   "outputs": [
    {
     "name": "stdout",
     "output_type": "stream",
     "text": [
      "The person details name:jay, age:3.53\n"
     ]
    }
   ],
   "source": [
    "name=\"jay\"\n",
    "age=3.53466546547\n",
    "print(\"The person details name:%s, age:%.2f\"%(name, age))"
   ]
  },
  {
   "cell_type": "code",
   "execution_count": 32,
   "id": "59185f3a",
   "metadata": {},
   "outputs": [
    {
     "name": "stdout",
     "output_type": "stream",
     "text": [
      "Enter the name here: jay\n",
      "Enter the age here: 3\n",
      "Enter the height here: 3.56546\n",
      "Enter the wight here: 15.4334634\n",
      "The person details we got name:jay, age:3.0, height:3.57, weight:15.433\n",
      "The person details we got name:jay, age:3.0, height:3.57, weight:15.433\n"
     ]
    }
   ],
   "source": [
    "#o/p The person details we got name:jay, age:3.26389 years, height:3.24 feets, weight:15.257 kgs\n",
    "name = input(\"Enter the name here: \")\n",
    "age = float(input(\"Enter the age here: \"))\n",
    "height = float(input(\"Enter the height here: \"))\n",
    "weight = float(input(\"Enter the wight here: \"))\n",
    "# template strings\n",
    "print(f\"The person details we got name:{name}, age:{age}, height:{height:.2f}, weight:{weight:.3f}\")\n",
    "\n",
    "#format specifiers\n",
    "print(\"The person details we got name:%s, age:%s, height:%.2f, weight:%.3f\"%(name, age, height, weight))"
   ]
  },
  {
   "cell_type": "code",
   "execution_count": null,
   "id": "e59a47e4",
   "metadata": {},
   "outputs": [],
   "source": []
  }
 ],
 "metadata": {
  "kernelspec": {
   "display_name": "Python 3 (ipykernel)",
   "language": "python",
   "name": "python3"
  },
  "language_info": {
   "codemirror_mode": {
    "name": "ipython",
    "version": 3
   },
   "file_extension": ".py",
   "mimetype": "text/x-python",
   "name": "python",
   "nbconvert_exporter": "python",
   "pygments_lexer": "ipython3",
   "version": "3.9.13"
  }
 },
 "nbformat": 4,
 "nbformat_minor": 5
}
