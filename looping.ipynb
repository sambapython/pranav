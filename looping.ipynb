{
 "cells": [
  {
   "cell_type": "code",
   "execution_count": null,
   "id": "8decd62c",
   "metadata": {},
   "outputs": [],
   "source": [
    "# check whether the string(multi chars) has atleast one number.\n",
    "# asd12wert: yes it has number\n",
    "# sdwertwe@$%^: no it does not has the number\n"
   ]
  },
  {
   "cell_type": "code",
   "execution_count": null,
   "id": "d50e8a2f",
   "metadata": {},
   "outputs": [],
   "source": [
    "# check whether the string(multi chars) has atleast one number.\n",
    "# asd12wert: yes it has number\n",
    "# sdwertwe@$%^: no it does not has the number\n",
    "stringVal = input(\"Enter the string here: \")\n",
    "list1 = [*stringVal]\n",
    "for x in list1:\n",
    "    if ord(x) in range(48, 58):\n",
    "        print(\"Yes it has a number\")\n",
    "        break\n",
    "    else: \n",
    "        print(\"No it does have a number\")"
   ]
  },
  {
   "cell_type": "code",
   "execution_count": 1,
   "id": "ea356b0c",
   "metadata": {},
   "outputs": [
    {
     "name": "stdout",
     "output_type": "stream",
     "text": [
      "a\n",
      "s\n",
      "a\n",
      "#\n",
      "$\n"
     ]
    }
   ],
   "source": [
    "s=\"asa#$\"\n",
    "for char in s:\n",
    "    print(char)"
   ]
  },
  {
   "cell_type": "code",
   "execution_count": 2,
   "id": "c8fd3953",
   "metadata": {},
   "outputs": [
    {
     "name": "stdout",
     "output_type": "stream",
     "text": [
      "Enter the string here: qeqwrr\n",
      "NO it does not have a number\n"
     ]
    }
   ],
   "source": [
    "stringVal = input(\"Enter the string here: \")\n",
    "n = 0\n",
    "for x in stringVal:\n",
    "    if ord(x) in range(48, 58):\n",
    "       n += 1\n",
    "if n > 0:\n",
    "    print(\"Yes it has a number\")\n",
    "else:\n",
    "    print(\"NO it does not have a number\")\n"
   ]
  },
  {
   "cell_type": "code",
   "execution_count": 3,
   "id": "421a5832",
   "metadata": {},
   "outputs": [
    {
     "name": "stdout",
     "output_type": "stream",
     "text": [
      "Enter the string here: 12456qwert\n",
      "Yes it has a number\n"
     ]
    }
   ],
   "source": [
    "stringVal = input(\"Enter the string here: \")\n",
    "n = 0\n",
    "for x in stringVal:\n",
    "    if ord(x) in range(48, 58):\n",
    "       n += 1\n",
    "if n > 0:\n",
    "    print(\"Yes it has a number\")\n",
    "else:\n",
    "    print(\"NO it does not have a number\")\n"
   ]
  },
  {
   "cell_type": "code",
   "execution_count": 4,
   "id": "1f15879a",
   "metadata": {},
   "outputs": [
    {
     "name": "stdout",
     "output_type": "stream",
     "text": [
      "Enter the string here: asdfasfd34\n",
      "Yes it has a number\n"
     ]
    }
   ],
   "source": [
    "#we245\n",
    "#werwwetret4\n",
    "stringVal = input(\"Enter the string here: \")\n",
    "n = 0\n",
    "for x in stringVal:\n",
    "    if ord(x) in range(48, 58):\n",
    "       n += 1\n",
    "       break\n",
    "if n > 0:\n",
    "    print(\"Yes it has a number\")\n",
    "else:\n",
    "    print(\"NO it does not have a number\")\n"
   ]
  },
  {
   "cell_type": "code",
   "execution_count": 5,
   "id": "80d71943",
   "metadata": {},
   "outputs": [
    {
     "name": "stdout",
     "output_type": "stream",
     "text": [
      "started\n",
      "h\n",
      "Ended\n"
     ]
    }
   ],
   "source": [
    "print(\"started\")\n",
    "for i in \"hyd\":\n",
    "    print(i)\n",
    "    break\n",
    "else:\n",
    "    print(\"else block\")\n",
    "print(\"Ended\")"
   ]
  },
  {
   "cell_type": "code",
   "execution_count": 6,
   "id": "5c19251f",
   "metadata": {},
   "outputs": [
    {
     "name": "stdout",
     "output_type": "stream",
     "text": [
      "started\n",
      "h\n",
      "y\n",
      "d\n",
      "else block\n",
      "Ended\n"
     ]
    }
   ],
   "source": [
    "print(\"started\")\n",
    "for i in \"hyd\":\n",
    "    print(i)\n",
    "else:\n",
    "    print(\"else block\")\n",
    "print(\"Ended\")"
   ]
  },
  {
   "cell_type": "code",
   "execution_count": 7,
   "id": "f54cbfb8",
   "metadata": {},
   "outputs": [
    {
     "name": "stdout",
     "output_type": "stream",
     "text": [
      "started\n",
      "h\n",
      "y\n",
      "Ended\n"
     ]
    }
   ],
   "source": [
    "print(\"started\")\n",
    "for i in \"hyd\":\n",
    "    print(i)\n",
    "    if i==\"y\":\n",
    "        break\n",
    "else:\n",
    "    print(\"else block\")\n",
    "print(\"Ended\")"
   ]
  },
  {
   "cell_type": "code",
   "execution_count": 8,
   "id": "68a46c30",
   "metadata": {},
   "outputs": [
    {
     "name": "stdout",
     "output_type": "stream",
     "text": [
      "started\n",
      "h\n",
      "y\n",
      "d\n",
      "else block\n",
      "Ended\n"
     ]
    }
   ],
   "source": [
    "print(\"started\")\n",
    "for i in \"hyd\":\n",
    "    print(i)\n",
    "    if i==\"D\":\n",
    "        break\n",
    "else:\n",
    "    print(\"else block\")\n",
    "print(\"Ended\")"
   ]
  },
  {
   "cell_type": "code",
   "execution_count": 9,
   "id": "a9c15e39",
   "metadata": {},
   "outputs": [
    {
     "name": "stdout",
     "output_type": "stream",
     "text": [
      "started\n",
      "h\n",
      "y\n",
      "d\n",
      "Ended\n"
     ]
    }
   ],
   "source": [
    "print(\"started\")\n",
    "for i in \"hyd\":\n",
    "    print(i)\n",
    "    if i==\"d\":\n",
    "        break\n",
    "else:\n",
    "    print(\"else block\")\n",
    "print(\"Ended\")"
   ]
  },
  {
   "cell_type": "code",
   "execution_count": 10,
   "id": "4ce2ec6b",
   "metadata": {},
   "outputs": [
    {
     "name": "stdout",
     "output_type": "stream",
     "text": [
      "Enter the string here: afds\n",
      "NO it does not have a number\n"
     ]
    }
   ],
   "source": [
    "stringVal = input(\"Enter the string here: \")\n",
    "for x in stringVal:\n",
    "    if ord(x) in range(48, 58):\n",
    "        print(\"Yes it has a number\")\n",
    "        break\n",
    "else:\n",
    "    print(\"NO it does not have a number\")"
   ]
  },
  {
   "cell_type": "code",
   "execution_count": 11,
   "id": "4afaaae9",
   "metadata": {},
   "outputs": [
    {
     "name": "stdout",
     "output_type": "stream",
     "text": [
      "Enter the string here: werwe324#%$%\n",
      "Yes it has a number\n"
     ]
    }
   ],
   "source": [
    "stringVal = input(\"Enter the string here: \")\n",
    "for x in stringVal:\n",
    "    if ord(x) in range(48, 58):\n",
    "        print(\"Yes it has a number\")\n",
    "        break\n",
    "else:\n",
    "    print(\"NO it does not have a number\")"
   ]
  },
  {
   "cell_type": "code",
   "execution_count": 12,
   "id": "bd6c7fb3",
   "metadata": {},
   "outputs": [
    {
     "name": "stdout",
     "output_type": "stream",
     "text": [
      "Enter the string here: \n",
      "NO it does not have a number\n"
     ]
    }
   ],
   "source": [
    "stringVal = input(\"Enter the string here: \")\n",
    "for x in stringVal:\n",
    "    if ord(x) in range(48, 58):\n",
    "        print(\"Yes it has a number\")\n",
    "        break\n",
    "else:\n",
    "    print(\"NO it does not have a number\")"
   ]
  },
  {
   "cell_type": "code",
   "execution_count": 13,
   "id": "513044ac",
   "metadata": {},
   "outputs": [
    {
     "name": "stdout",
     "output_type": "stream",
     "text": [
      "p\n",
      "y\n",
      "t\n"
     ]
    }
   ],
   "source": [
    "for i in \"pyt\":\n",
    "    print(i)"
   ]
  },
  {
   "cell_type": "code",
   "execution_count": 14,
   "id": "7f32e108",
   "metadata": {},
   "outputs": [
    {
     "name": "stdout",
     "output_type": "stream",
     "text": [
      "1\n",
      "2\n",
      "3\n",
      "4\n"
     ]
    }
   ],
   "source": [
    "for i in [1,2,3,4]:\n",
    "    print(i)"
   ]
  },
  {
   "cell_type": "code",
   "execution_count": 15,
   "id": "e0e2d04a",
   "metadata": {},
   "outputs": [
    {
     "name": "stdout",
     "output_type": "stream",
     "text": [
      "1\n",
      "2\n",
      "3\n",
      "4\n"
     ]
    }
   ],
   "source": [
    "for i in (1,2,3,4):\n",
    "    print(i)"
   ]
  },
  {
   "cell_type": "code",
   "execution_count": 16,
   "id": "49c4ca18",
   "metadata": {},
   "outputs": [
    {
     "name": "stdout",
     "output_type": "stream",
     "text": [
      "started\n",
      "1\n",
      "2\n",
      "3\n",
      "4\n",
      "ended\n"
     ]
    }
   ],
   "source": [
    "print(\"started\")\n",
    "i=0\n",
    "while i<4:\n",
    "    i=i+1\n",
    "    print(i)\n",
    "print(\"ended\")"
   ]
  },
  {
   "cell_type": "code",
   "execution_count": 17,
   "id": "67157d58",
   "metadata": {},
   "outputs": [
    {
     "name": "stdout",
     "output_type": "stream",
     "text": [
      "started\n",
      "ended\n"
     ]
    }
   ],
   "source": [
    "print(\"started\")\n",
    "i=10\n",
    "while i<4:\n",
    "    i=i+1\n",
    "    print(i)\n",
    "print(\"ended\")"
   ]
  },
  {
   "cell_type": "code",
   "execution_count": null,
   "id": "f9fa3fe0",
   "metadata": {},
   "outputs": [],
   "source": [
    "print(\"started\")\n",
    "i=0\n",
    "while i<4:\n",
    "    i=i-1\n",
    "    print(i)\n",
    "print(\"ended\")\n",
    "# it will go with negative infinite number of iterations."
   ]
  },
  {
   "cell_type": "code",
   "execution_count": null,
   "id": "3e7f2b4a",
   "metadata": {},
   "outputs": [],
   "source": [
    "names =\"emp1,emp2,emp3,emp4\" #iterate through the employee names\n",
    "for i in names:\n",
    "    print(i)"
   ]
  },
  {
   "cell_type": "code",
   "execution_count": 18,
   "id": "eadd6abe",
   "metadata": {},
   "outputs": [
    {
     "data": {
      "text/plain": [
       "['emp1', 'emp2', 'emp3', 'emp4']"
      ]
     },
     "execution_count": 18,
     "metadata": {},
     "output_type": "execute_result"
    }
   ],
   "source": [
    "names =\"emp1,emp2,emp3,emp4\"\n",
    "names.split(\",\")"
   ]
  },
  {
   "cell_type": "code",
   "execution_count": 19,
   "id": "be91126d",
   "metadata": {},
   "outputs": [
    {
     "name": "stdout",
     "output_type": "stream",
     "text": [
      "emp1\n",
      "emp2\n",
      "emp3\n",
      "emp4\n"
     ]
    }
   ],
   "source": [
    "names =\"emp1,emp2,emp3,emp4\"\n",
    "for name in names.split(\",\"):\n",
    "    print(name)"
   ]
  },
  {
   "cell_type": "code",
   "execution_count": 20,
   "id": "7de9313d",
   "metadata": {},
   "outputs": [
    {
     "name": "stdout",
     "output_type": "stream",
     "text": [
      "emp1\n",
      "emp2\n",
      "emp3\n",
      "emp4\n"
     ]
    }
   ],
   "source": [
    "names =\"emp1,emp2,emp3,emp4\"\n",
    "empName = \"\"\n",
    "\n",
    "for name in names:\n",
    "    if name != \",\":\n",
    "        empName += name\n",
    "        if ord(name) in range(48, 58):\n",
    "            print(empName)\n",
    "            empName = \"\"\n"
   ]
  },
  {
   "cell_type": "code",
   "execution_count": 22,
   "id": "f6ced034",
   "metadata": {},
   "outputs": [
    {
     "name": "stdout",
     "output_type": "stream",
     "text": [
      "emp1\n",
      "emp\n",
      "emp3\n"
     ]
    }
   ],
   "source": [
    "names =\"emp1,emp,emp3,emp4\"\n",
    "empName = \"\"\n",
    "\n",
    "for name in names:\n",
    "    if name != \",\":\n",
    "        empName += name\n",
    "    else:\n",
    "        print(empName)\n",
    "        empName = \"\""
   ]
  },
  {
   "cell_type": "code",
   "execution_count": 23,
   "id": "7254c55a",
   "metadata": {},
   "outputs": [
    {
     "name": "stdout",
     "output_type": "stream",
     "text": [
      "emp1\n",
      "emp\n",
      "emp3\n",
      "emp4\n"
     ]
    }
   ],
   "source": [
    "names =\"emp1,emp,emp3,emp4\"\n",
    "empName = \"\"\n",
    "\n",
    "for name in names:\n",
    "    if name != \",\":\n",
    "        empName += name\n",
    "    else:\n",
    "        print(empName)\n",
    "        empName = \"\"\n",
    "print(empName)"
   ]
  },
  {
   "cell_type": "code",
   "execution_count": 24,
   "id": "a07d5387",
   "metadata": {},
   "outputs": [
    {
     "name": "stdout",
     "output_type": "stream",
     "text": [
      "emp1\n",
      "emp2\n",
      "emp3\n",
      "emp\n"
     ]
    }
   ],
   "source": [
    "names =\"emp1,emp2,emp3,emp4\"\n",
    "empName = \"\"\n",
    "n = 0\n",
    "\n",
    "for name in names:\n",
    "    n += 1\n",
    "    if name != \",\" and n != len(names):\n",
    "        empName += name\n",
    "    else:\n",
    "        print(empName)\n",
    "        empName = \"\"\n"
   ]
  },
  {
   "cell_type": "code",
   "execution_count": 25,
   "id": "d2011a10",
   "metadata": {},
   "outputs": [
    {
     "name": "stdout",
     "output_type": "stream",
     "text": [
      "emp1\n",
      "emp2\n",
      "emp3\n"
     ]
    }
   ],
   "source": [
    "names =\"emp1,emp2,emp3,emp4\"\n",
    "empName = \"\"\n",
    "for name in names:\n",
    "    if name != \",\":\n",
    "        empName += name\n",
    "    else:\n",
    "        print(empName)\n",
    "        empName = \"\"\n"
   ]
  },
  {
   "cell_type": "code",
   "execution_count": 26,
   "id": "eea9ce1b",
   "metadata": {},
   "outputs": [
    {
     "name": "stdout",
     "output_type": "stream",
     "text": [
      "emp1\n",
      "emp2\n",
      "emp3\n",
      "emp4\n"
     ]
    }
   ],
   "source": [
    "names =\"emp1,emp2,emp3,emp4,\"\n",
    "empName = \"\"\n",
    "for name in names:\n",
    "    if name != \",\":\n",
    "        empName += name\n",
    "    else:\n",
    "        print(empName)\n",
    "        empName = \"\"\n"
   ]
  },
  {
   "cell_type": "code",
   "execution_count": 27,
   "id": "f2764d7c",
   "metadata": {},
   "outputs": [
    {
     "name": "stdout",
     "output_type": "stream",
     "text": [
      "emp1\n",
      "emp2\n",
      "emp3\n",
      "emp4\n"
     ]
    }
   ],
   "source": [
    "names =\"emp1,emp2,emp3,emp4\"\n",
    "empName = \"\"\n",
    "for name in names:\n",
    "    if name != \",\":\n",
    "        empName += name\n",
    "    else:\n",
    "        print(empName)\n",
    "        empName = \"\"\n",
    "print(empName)"
   ]
  },
  {
   "cell_type": "code",
   "execution_count": null,
   "id": "855caf01",
   "metadata": {},
   "outputs": [],
   "source": []
  }
 ],
 "metadata": {
  "kernelspec": {
   "display_name": "Python 3 (ipykernel)",
   "language": "python",
   "name": "python3"
  },
  "language_info": {
   "codemirror_mode": {
    "name": "ipython",
    "version": 3
   },
   "file_extension": ".py",
   "mimetype": "text/x-python",
   "name": "python",
   "nbconvert_exporter": "python",
   "pygments_lexer": "ipython3",
   "version": "3.9.13"
  }
 },
 "nbformat": 4,
 "nbformat_minor": 5
}
